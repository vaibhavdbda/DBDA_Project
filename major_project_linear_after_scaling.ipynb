{
 "cells": [
  {
   "cell_type": "code",
   "execution_count": 1,
   "id": "5f80a1e4",
   "metadata": {},
   "outputs": [],
   "source": [
    "from pyspark.sql import SparkSession\n",
    "from pyspark.ml.feature import StringIndexer, OneHotEncoder, VectorAssembler,StandardScaler\n",
    "from pyspark.ml.regression import LinearRegression\n",
    "from pyspark.ml import Pipeline\n",
    "from pyspark.ml.evaluation import RegressionEvaluator"
   ]
  },
  {
   "cell_type": "code",
   "execution_count": 2,
   "id": "51581c3b",
   "metadata": {},
   "outputs": [],
   "source": [
    "# Create a SparkSession\n",
    "spark = SparkSession.builder \\\n",
    "    .appName(\"Linear Regression Example\") \\\n",
    "    .getOrCreate()\n"
   ]
  },
  {
   "cell_type": "code",
   "execution_count": 3,
   "id": "14982813",
   "metadata": {},
   "outputs": [],
   "source": [
    "# Load your dataset\n",
    "df = spark.read.csv(\"vehicle_EDA.csv\", header=True, inferSchema=True)\n"
   ]
  },
  {
   "cell_type": "code",
   "execution_count": 4,
   "id": "5fef9f69",
   "metadata": {},
   "outputs": [],
   "source": [
    "train, test = df.randomSplit([0.7, 0.3])"
   ]
  },
  {
   "cell_type": "code",
   "execution_count": 5,
   "id": "334f686a",
   "metadata": {},
   "outputs": [],
   "source": [
    "numerical=[\"odometer\",\"year\"]"
   ]
  },
  {
   "cell_type": "code",
   "execution_count": 6,
   "id": "25ba65c4",
   "metadata": {},
   "outputs": [],
   "source": [
    "numerical_vector_assembler = VectorAssembler(inputCols=numerical,\n",
    "                                             outputCol='numerical_feature_vector')\n",
    "\n",
    "train = numerical_vector_assembler.transform(train)\n",
    "test = numerical_vector_assembler.transform(test)"
   ]
  },
  {
   "cell_type": "code",
   "execution_count": 7,
   "id": "cd051937",
   "metadata": {},
   "outputs": [],
   "source": [
    "scaler = StandardScaler(inputCol='numerical_feature_vector',\n",
    "                        outputCol='scaled_numerical_feature_vector',\n",
    "                        withStd=True, withMean=True)\n",
    "\n",
    "scaler = scaler.fit(train)\n",
    "\n",
    "train = scaler.transform(train)\n",
    "test = scaler.transform(test)"
   ]
  },
  {
   "cell_type": "code",
   "execution_count": 8,
   "id": "2c82a545",
   "metadata": {},
   "outputs": [],
   "source": [
    "indexer = StringIndexer(inputCols=['manufacturer','model','condition','cylinders','fuel','title_status','transmission','drive','type','paint_color','state'],\n",
    "                        outputCols=['manufacturer_index','m_i','co_i','cy_i','f_i','ts_i','tr_i','d_i','ty_i','p_i','s_i'],handleInvalid=\"keep\")\n",
    "\n",
    "indexer = indexer.fit(train)\n",
    "train = indexer.transform(train)\n",
    "test = indexer.transform(test)"
   ]
  },
  {
   "cell_type": "code",
   "execution_count": 9,
   "id": "fc10ec0a",
   "metadata": {},
   "outputs": [],
   "source": [
    "one_hot_encoder = OneHotEncoder(inputCols=['manufacturer_index','m_i','co_i','cy_i','f_i','ts_i','tr_i','d_i','ty_i','p_i','s_i'],\n",
    "                                outputCols=['manufacturer_index_h','m_i_h','co_i_h','cy_i_h','f_i_h','ts_i_h','tr_i_h','d_i_h','ty_i_h','p_i_h','s_i_h'])\n",
    "\n",
    "one_hot_encoder = one_hot_encoder.fit(train)\n",
    "\n",
    "train = one_hot_encoder.transform(train)\n",
    "test = one_hot_encoder.transform(test)"
   ]
  },
  {
   "cell_type": "code",
   "execution_count": 10,
   "id": "879ef6f0",
   "metadata": {},
   "outputs": [],
   "source": [
    "assembler = VectorAssembler(inputCols=['scaled_numerical_feature_vector',\n",
    "                                       'manufacturer_index_h','m_i_h','co_i_h','cy_i_h','f_i_h','ts_i_h','tr_i_h','d_i_h','ty_i_h','p_i_h','s_i_h'],\n",
    "                            outputCol='final_feature_vector')\n",
    "\n",
    "train = assembler.transform(train)\n",
    "test = assembler.transform(test)"
   ]
  },
  {
   "cell_type": "code",
   "execution_count": 11,
   "id": "5b8da6e8",
   "metadata": {},
   "outputs": [],
   "source": [
    "lr = LinearRegression(featuresCol='final_feature_vector',\n",
    "                      labelCol='price')"
   ]
  },
  {
   "cell_type": "code",
   "execution_count": 12,
   "id": "021ac595",
   "metadata": {},
   "outputs": [],
   "source": [
    "lr=lr.fit(train)"
   ]
  },
  {
   "cell_type": "code",
   "execution_count": 17,
   "id": "3945f216",
   "metadata": {},
   "outputs": [
    {
     "name": "stdout",
     "output_type": "stream",
     "text": [
      "+-----+----+------------+-------+---------+-----------+-----+--------+------------+------------+-----+-----+-----------+-----+------------------------+-------------------------------+------------------+------+----+----+---+----+----+---+----+---+---+--------------------+--------------------+-------------+-------------+-------------+-------------+-------------+-------------+--------------+--------------+--------------+--------------------+-----------------------+\n",
      "|price|year|manufacturer|  model|condition|  cylinders| fuel|odometer|title_status|transmission|drive| type|paint_color|state|numerical_feature_vector|scaled_numerical_feature_vector|manufacturer_index|   m_i|co_i|cy_i|f_i|ts_i|tr_i|d_i|ty_i|p_i|s_i|manufacturer_index_h|               m_i_h|       co_i_h|       cy_i_h|        f_i_h|       ts_i_h|       tr_i_h|        d_i_h|        ty_i_h|         p_i_h|         s_i_h|final_feature_vector|predicted_vehicle_value|\n",
      "+-----+----+------------+-------+---------+-----------+-----+--------+------------+------------+-----+-----+-----------+-----+------------------------+-------------------------------+------------------+------+----+----+---+----+----+---+----+---+---+--------------------+--------------------+-------------+-------------+-------------+-------------+-------------+-------------+--------------+--------------+--------------+--------------------+-----------------------+\n",
      "|    1|1900|        ford|    All|     fair|      other|other|  100000|       clean|       other|  4wd|other|     custom|   ca|       [100000.0,1900.0]|           [-0.0033130270701...|               0.0|2566.0| 3.0| 6.0|1.0| 0.0| 1.0|0.0| 4.0|8.0|0.0|      (42,[0],[1.0])|(20766,[2566],[1.0])|(6,[3],[1.0])|(9,[6],[1.0])|(5,[1],[1.0])|(6,[0],[1.0])|(3,[1],[1.0])|(3,[0],[1.0])|(13,[4],[1.0])|(12,[8],[1.0])|(51,[0],[1.0])|(20918,[0,1,2,261...|     1008992.0028683455|\n",
      "|    1|1900|        ford|    All|     good|      other|other|    1000|       clean|       other|  4wd|other|     custom|   ca|         [1000.0,1900.0]|           [-0.4518077971013...|               0.0|2566.0| 0.0| 6.0|1.0| 0.0| 1.0|0.0| 4.0|8.0|0.0|      (42,[0],[1.0])|(20766,[2566],[1.0])|(6,[0],[1.0])|(9,[6],[1.0])|(5,[1],[1.0])|(6,[0],[1.0])|(3,[1],[1.0])|(3,[0],[1.0])|(13,[4],[1.0])|(12,[8],[1.0])|(51,[0],[1.0])|(20918,[0,1,2,261...|      796041.2468339802|\n",
      "|    1|1926|        ford|model t|     good|4 cylinders|  gas|    1234|       clean|   automatic|  rwd|coupe|      black|   ca|         [1234.0,1926.0]|           [-0.4507477185540...|               0.0|1922.0| 0.0| 2.0|0.0| 0.0| 0.0|2.0| 5.0|1.0|0.0|      (42,[0],[1.0])|(20766,[1922],[1.0])|(6,[0],[1.0])|(9,[2],[1.0])|(5,[0],[1.0])|(6,[0],[1.0])|(3,[0],[1.0])|(3,[2],[1.0])|(13,[5],[1.0])|(12,[1],[1.0])|(51,[0],[1.0])|(20918,[0,1,2,196...|     -67303.56096432231|\n",
      "|    1|1926|        ford|model t|     good|4 cylinders|  gas|    1234|       clean|   automatic|  rwd|coupe|      black|   ca|         [1234.0,1926.0]|           [-0.4507477185540...|               0.0|1922.0| 0.0| 2.0|0.0| 0.0| 0.0|2.0| 5.0|1.0|0.0|      (42,[0],[1.0])|(20766,[1922],[1.0])|(6,[0],[1.0])|(9,[2],[1.0])|(5,[0],[1.0])|(6,[0],[1.0])|(3,[0],[1.0])|(3,[2],[1.0])|(13,[5],[1.0])|(12,[1],[1.0])|(51,[0],[1.0])|(20918,[0,1,2,196...|     -67303.56096432231|\n",
      "|    1|1936|        ford|    all|     good|      other|  gas|   23000|       clean|   automatic|  4wd|sedan|      white|   ca|        [23000.0,1936.0]|           [-0.3521422926499...|               0.0|1011.0| 0.0| 6.0|0.0| 0.0| 0.0|0.0| 0.0|0.0|0.0|      (42,[0],[1.0])|(20766,[1011],[1.0])|(6,[0],[1.0])|(9,[6],[1.0])|(5,[0],[1.0])|(6,[0],[1.0])|(3,[0],[1.0])|(3,[0],[1.0])|(13,[0],[1.0])|(12,[0],[1.0])|(51,[0],[1.0])|(20918,[0,1,2,105...|       639405.690680152|\n",
      "+-----+----+------------+-------+---------+-----------+-----+--------+------------+------------+-----+-----+-----------+-----+------------------------+-------------------------------+------------------+------+----+----+---+----+----+---+----+---+---+--------------------+--------------------+-------------+-------------+-------------+-------------+-------------+-------------+--------------+--------------+--------------+--------------------+-----------------------+\n",
      "only showing top 5 rows\n",
      "\n"
     ]
    }
   ],
   "source": [
    "pred_train_df = lr.transform(train).withColumnRenamed('prediction',\n",
    "                                                      'predicted_vehicle_value')\n",
    "\n",
    "pred_train_df.show(5)"
   ]
  },
  {
   "cell_type": "code",
   "execution_count": 18,
   "id": "6f73d9e4",
   "metadata": {},
   "outputs": [],
   "source": [
    "pred_test_df = lr.transform(test).withColumnRenamed('prediction', 'predicted_vehicle_value')"
   ]
  },
  {
   "cell_type": "code",
   "execution_count": 19,
   "id": "e6cfc76f",
   "metadata": {},
   "outputs": [],
   "source": [
    "result=lr.evaluate(train)"
   ]
  },
  {
   "cell_type": "code",
   "execution_count": 20,
   "id": "54acf51f",
   "metadata": {},
   "outputs": [
    {
     "name": "stdout",
     "output_type": "stream",
     "text": [
      "0.045268164165857994\n"
     ]
    }
   ],
   "source": [
    "print(result.r2)"
   ]
  },
  {
   "cell_type": "code",
   "execution_count": 21,
   "id": "ee4273a9",
   "metadata": {},
   "outputs": [],
   "source": [
    "unlabeled_data=test.select(\"final_feature_vector\")"
   ]
  },
  {
   "cell_type": "code",
   "execution_count": 22,
   "id": "5b0accc4",
   "metadata": {},
   "outputs": [],
   "source": [
    "predictions=lr.transform(unlabeled_data)"
   ]
  },
  {
   "cell_type": "code",
   "execution_count": 23,
   "id": "f3eaee80",
   "metadata": {},
   "outputs": [
    {
     "name": "stdout",
     "output_type": "stream",
     "text": [
      "+--------------------+-------------------+\n",
      "|final_feature_vector|         prediction|\n",
      "+--------------------+-------------------+\n",
      "|(20918,[0,1,2,261...| 1008992.0028683455|\n",
      "|(20918,[0,1,2,196...| -67303.56096432231|\n",
      "|(20918,[0,1,2,196...| -67303.56096432231|\n",
      "|(20918,[0,1,2,196...| -67303.56096432231|\n",
      "|(20918,[0,1,3,260...|  179550.4253027456|\n",
      "|(20918,[0,1,2,150...| -547479.8662257438|\n",
      "|(20918,[0,1,2,208...|  670042.6498239018|\n",
      "|(20918,[0,1,8,44,...| 1175430.7775578927|\n",
      "|(20918,[0,1,2,143...| 259228.27718296228|\n",
      "|(20918,[0,1,3,298...| 1615376.8392090765|\n",
      "|(20918,[0,1,24,20...|-21075.512010765728|\n",
      "|(20918,[0,1,2,208...| -383175.6778566007|\n",
      "|(20918,[0,1,3,926...| -315681.9526317855|\n",
      "|(20918,[0,1,2,208...|-3348.3193358114077|\n",
      "|(20918,[0,1,2,323...| 240068.55161260505|\n",
      "|(20918,[0,1,2,81,...| -41006.83781834139|\n",
      "|(20918,[0,1,4,47,...|  536757.7944496732|\n",
      "|(20918,[0,1,4,89,...| 132657.79096820363|\n",
      "|(20918,[0,1,3,316...| 115230.10938838418|\n",
      "|(20918,[0,1,2,323...|  189193.8136616185|\n",
      "+--------------------+-------------------+\n",
      "only showing top 20 rows\n",
      "\n"
     ]
    }
   ],
   "source": [
    "predictions.show()"
   ]
  },
  {
   "cell_type": "code",
   "execution_count": null,
   "id": "46e64d6e",
   "metadata": {},
   "outputs": [],
   "source": []
  }
 ],
 "metadata": {
  "kernelspec": {
   "display_name": "Python 3 (ipykernel)",
   "language": "python",
   "name": "python3"
  },
  "language_info": {
   "codemirror_mode": {
    "name": "ipython",
    "version": 3
   },
   "file_extension": ".py",
   "mimetype": "text/x-python",
   "name": "python",
   "nbconvert_exporter": "python",
   "pygments_lexer": "ipython3",
   "version": "3.11.5"
  }
 },
 "nbformat": 4,
 "nbformat_minor": 5
}
