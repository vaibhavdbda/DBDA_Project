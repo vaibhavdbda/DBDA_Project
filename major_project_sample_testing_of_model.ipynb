{
 "cells": [
  {
   "cell_type": "code",
   "execution_count": 1,
   "id": "4382554a",
   "metadata": {},
   "outputs": [],
   "source": [
    "from pyspark.sql import SparkSession\n",
    "from pyspark.ml.feature import StringIndexer, OneHotEncoder, VectorAssembler\n",
    "from pyspark.ml.regression import LinearRegression\n",
    "from pyspark.ml import Pipeline\n",
    "from pyspark.ml.evaluation import RegressionEvaluator"
   ]
  },
  {
   "cell_type": "code",
   "execution_count": 2,
   "id": "b35f7047",
   "metadata": {},
   "outputs": [],
   "source": [
    "# Create a SparkSession\n",
    "spark = SparkSession.builder \\\n",
    "    .appName(\"Linear Regression Example\") \\\n",
    "    .getOrCreate()\n"
   ]
  },
  {
   "cell_type": "code",
   "execution_count": 3,
   "id": "b78b6fd2",
   "metadata": {},
   "outputs": [],
   "source": [
    "# Load your dataset\n",
    "df = spark.read.csv(\"vehicle_EDA.csv\", header=True, inferSchema=True)\n"
   ]
  },
  {
   "cell_type": "code",
   "execution_count": 4,
   "id": "93f18d31",
   "metadata": {},
   "outputs": [
    {
     "name": "stdout",
     "output_type": "stream",
     "text": [
      "+-----+----+------------+-----+---------+------------+----+--------+------------+------------+-----+-----+-----------+-----+\n",
      "|price|year|manufacturer|model|condition|   cylinders|fuel|odometer|title_status|transmission|drive| type|paint_color|state|\n",
      "+-----+----+------------+-----+---------+------------+----+--------+------------+------------+-----+-----+-----------+-----+\n",
      "| 6000|2011|        ford|f-150|     good|6 cylindersw| gas|   98729|       clean|   automatic|  4wd|sedan|      white|   az|\n",
      "|11900|2011|        ford|f-150|     good|6 cylindersw| gas|   98729|       clean|   automatic|  4wd|sedan|      white|   ar|\n",
      "|21000|2011|        ford|f-150|     good|6 cylindersw| gas|   98729|       clean|   automatic|  4wd|sedan|      white|   fl|\n",
      "| 1500|2011|        ford|f-150|     good|6 cylindersw| gas|   98729|       clean|   automatic|  4wd|sedan|      white|   ma|\n",
      "| 4900|2011|        ford|f-150|     good|6 cylindersw| gas|   98729|       clean|   automatic|  4wd|sedan|      white|   nc|\n",
      "| 1600|2011|        ford|f-150|     good|6 cylindersw| gas|   98729|       clean|   automatic|  4wd|sedan|      white|   ny|\n",
      "| 1000|2011|        ford|f-150|     good|6 cylindersw| gas|   98729|       clean|   automatic|  4wd|sedan|      white|   ny|\n",
      "|15995|2011|        ford|f-150|     good|6 cylindersw| gas|   98729|       clean|   automatic|  4wd|sedan|      white|   ny|\n",
      "| 5000|2011|        ford|f-150|     good|6 cylindersw| gas|   98729|       clean|   automatic|  4wd|sedan|      white|   or|\n",
      "| 3000|2011|        ford|f-150|     good|6 cylindersw| gas|   98729|       clean|   automatic|  4wd|sedan|      white|   pa|\n",
      "|13995|2011|        ford|f-150|     good|6 cylindersw| gas|   98729|       clean|   automatic|  4wd|sedan|      white|   wa|\n",
      "|24999|2011|        ford|f-150|     good|6 cylindersw| gas|   98729|       clean|   automatic|  4wd|sedan|      white|   wa|\n",
      "|21850|2011|        ford|f-150|     good|6 cylindersw| gas|   98729|       clean|   automatic|  4wd|sedan|      white|   wa|\n",
      "|26850|2011|        ford|f-150|     good|6 cylindersw| gas|   98729|       clean|   automatic|  4wd|sedan|      white|   wa|\n",
      "|11999|2011|        ford|f-150|     good|6 cylindersw| gas|   98729|       clean|   automatic|  4wd|sedan|      white|   wa|\n",
      "|24999|2011|        ford|f-150|     good|6 cylindersw| gas|   98729|       clean|   automatic|  4wd|sedan|      white|   wa|\n",
      "|21850|2011|        ford|f-150|     good|6 cylindersw| gas|   98729|       clean|   automatic|  4wd|sedan|      white|   wa|\n",
      "|26850|2011|        ford|f-150|     good|6 cylindersw| gas|   98729|       clean|   automatic|  4wd|sedan|      white|   wa|\n",
      "|11999|2011|        ford|f-150|     good|6 cylindersw| gas|   98729|       clean|   automatic|  4wd|sedan|      white|   wa|\n",
      "|24999|2011|        ford|f-150|     good|6 cylindersw| gas|   98729|       clean|   automatic|  4wd|sedan|      white|   wa|\n",
      "+-----+----+------------+-----+---------+------------+----+--------+------------+------------+-----+-----+-----------+-----+\n",
      "only showing top 20 rows\n",
      "\n"
     ]
    }
   ],
   "source": [
    "df.show()"
   ]
  },
  {
   "cell_type": "code",
   "execution_count": 5,
   "id": "b3338027",
   "metadata": {},
   "outputs": [
    {
     "data": {
      "text/plain": [
       "339050"
      ]
     },
     "execution_count": 5,
     "metadata": {},
     "output_type": "execute_result"
    }
   ],
   "source": [
    "df.count()"
   ]
  },
  {
   "cell_type": "code",
   "execution_count": 6,
   "id": "e55f07c1",
   "metadata": {},
   "outputs": [
    {
     "data": {
      "text/plain": [
       "14"
      ]
     },
     "execution_count": 6,
     "metadata": {},
     "output_type": "execute_result"
    }
   ],
   "source": [
    "len(df.columns)"
   ]
  },
  {
   "cell_type": "code",
   "execution_count": 7,
   "id": "00bde7bd",
   "metadata": {},
   "outputs": [
    {
     "name": "stdout",
     "output_type": "stream",
     "text": [
      "root\n",
      " |-- price: integer (nullable = true)\n",
      " |-- year: integer (nullable = true)\n",
      " |-- manufacturer: string (nullable = true)\n",
      " |-- model: string (nullable = true)\n",
      " |-- condition: string (nullable = true)\n",
      " |-- cylinders: string (nullable = true)\n",
      " |-- fuel: string (nullable = true)\n",
      " |-- odometer: integer (nullable = true)\n",
      " |-- title_status: string (nullable = true)\n",
      " |-- transmission: string (nullable = true)\n",
      " |-- drive: string (nullable = true)\n",
      " |-- type: string (nullable = true)\n",
      " |-- paint_color: string (nullable = true)\n",
      " |-- state: string (nullable = true)\n",
      "\n"
     ]
    }
   ],
   "source": [
    "df.printSchema()"
   ]
  },
  {
   "cell_type": "code",
   "execution_count": 8,
   "id": "b974d70d",
   "metadata": {},
   "outputs": [
    {
     "name": "stdout",
     "output_type": "stream",
     "text": [
      "+-------+-----------------+------------------+------------+--------------------+---------+------------+------+------------------+------------+------------+------+------+-----------+------+\n",
      "|summary|            price|              year|manufacturer|               model|condition|   cylinders|  fuel|          odometer|title_status|transmission| drive|  type|paint_color| state|\n",
      "+-------+-----------------+------------------+------------+--------------------+---------+------------+------+------------------+------------+------------+------+------+-----------+------+\n",
      "|  count|           339050|            339050|      339050|              339050|   339050|      339050|339050|            339050|      339050|      339050|339050|339050|     339050|339050|\n",
      "|   mean|41111.30849727179|2010.7232148650642|        null|  1942.1225550463842|     null|        null|  null|100807.04491372954|        null|        null|  null|  null|       null|  null|\n",
      "| stddev|4869252.508568353| 9.780865941571017|        null|  5733.0302316019515|     null|        null|  null|217009.75683061086|        null|        null|  null|  null|       null|  null|\n",
      "|    min|                1|              1900|       acura|\"1500 4dr quad ca...|excellent|10 cylinders|diesel|                 0|       clean|   automatic|   4wd|   SUV|      black|    ak|\n",
      "|    max|       1410065407|              2022|       volvo|🔥GMC Sierra 1500...|  salvage|       other| other|          10000000|     salvage|       other|   rwd| wagon|     yellow|    wy|\n",
      "+-------+-----------------+------------------+------------+--------------------+---------+------------+------+------------------+------------+------------+------+------+-----------+------+\n",
      "\n"
     ]
    }
   ],
   "source": [
    "df.describe().show()"
   ]
  },
  {
   "cell_type": "code",
   "execution_count": 9,
   "id": "5b1a894f",
   "metadata": {},
   "outputs": [
    {
     "data": {
      "text/plain": [
       "Row(price=6000, year=2011, manufacturer='ford', model='f-150', condition='good', cylinders='6 cylindersw', fuel='gas', odometer=98729, title_status='clean', transmission='automatic', drive='4wd', type='sedan', paint_color='white', state='az')"
      ]
     },
     "execution_count": 9,
     "metadata": {},
     "output_type": "execute_result"
    }
   ],
   "source": [
    "df.head()"
   ]
  },
  {
   "cell_type": "code",
   "execution_count": 10,
   "id": "4c606e26",
   "metadata": {},
   "outputs": [
    {
     "data": {
      "text/plain": [
       "-0.008449092277232303"
      ]
     },
     "execution_count": 10,
     "metadata": {},
     "output_type": "execute_result"
    }
   ],
   "source": [
    "df.corr(\"price\",\"year\")"
   ]
  },
  {
   "cell_type": "code",
   "execution_count": 11,
   "id": "0ed7de0f",
   "metadata": {},
   "outputs": [
    {
     "data": {
      "text/plain": [
       "0.029939993632698128"
      ]
     },
     "execution_count": 11,
     "metadata": {},
     "output_type": "execute_result"
    }
   ],
   "source": [
    "df.corr(\"price\",\"odometer\")"
   ]
  },
  {
   "cell_type": "code",
   "execution_count": 12,
   "id": "51ce0cca",
   "metadata": {},
   "outputs": [],
   "source": [
    "from pyspark.ml.feature import StringIndexer"
   ]
  },
  {
   "cell_type": "code",
   "execution_count": 15,
   "id": "68878387",
   "metadata": {},
   "outputs": [],
   "source": [
    "#indexer=StringIndexer(inputCol=\"region\",outputCol=\"region_cat\",handleInvalid=\"skip\")\n",
    "#indexed=indexer.fit(df).transform(df)"
   ]
  },
  {
   "cell_type": "code",
   "execution_count": 16,
   "id": "78dc6695",
   "metadata": {},
   "outputs": [
    {
     "name": "stdout",
     "output_type": "stream",
     "text": [
      "+------+-----+------+------------+--------------------+---------+-----------+----+--------+------------+------------+-----+------+-----------+-----+----------+\n",
      "|region|price|  year|manufacturer|               model|condition|  cylinders|fuel|odometer|title_status|transmission|drive|  type|paint_color|state|region_cat|\n",
      "+------+-----+------+------------+--------------------+---------+-----------+----+--------+------------+------------+-----+------+-----------+-----+----------+\n",
      "|auburn|15000|2013.0|        ford|           f-150 xlt|excellent|6 cylinders| gas|128000.0|       clean|   automatic|  rwd| truck|      black|   al|     350.0|\n",
      "|auburn|27990|2012.0|         gmc|sierra 2500 hd ex...|     good|8 cylinders| gas| 68696.0|       clean|       other|  4wd|pickup|      black|   al|     350.0|\n",
      "|auburn|34590|2016.0|   chevrolet|silverado 1500 do...|     good|6 cylinders| gas| 29499.0|       clean|       other|  4wd|pickup|     silver|   al|     350.0|\n",
      "|auburn|35000|2019.0|      toyota|              tacoma|excellent|6 cylinders| gas| 43000.0|       clean|   automatic|  4wd| truck|       grey|   al|     350.0|\n",
      "|auburn|29990|2016.0|   chevrolet|colorado extended...|     good|6 cylinders| gas| 17302.0|       clean|       other|  4wd|pickup|        red|   al|     350.0|\n",
      "+------+-----+------+------------+--------------------+---------+-----------+----+--------+------------+------------+-----+------+-----------+-----+----------+\n",
      "only showing top 5 rows\n",
      "\n"
     ]
    }
   ],
   "source": [
    "#indexed.show(5)"
   ]
  },
  {
   "cell_type": "code",
   "execution_count": 13,
   "id": "f4568b69",
   "metadata": {},
   "outputs": [
    {
     "data": {
      "text/plain": [
       "14"
      ]
     },
     "execution_count": 13,
     "metadata": {},
     "output_type": "execute_result"
    }
   ],
   "source": [
    "len(df.columns)"
   ]
  },
  {
   "cell_type": "code",
   "execution_count": 14,
   "id": "44010cee",
   "metadata": {},
   "outputs": [
    {
     "ename": "IllegalArgumentException",
     "evalue": "requirement failed: Output column manufacturer_cat already exists.",
     "output_type": "error",
     "traceback": [
      "\u001b[1;31m---------------------------------------------------------------------------\u001b[0m",
      "\u001b[1;31mIllegalArgumentException\u001b[0m                  Traceback (most recent call last)",
      "Cell \u001b[1;32mIn[14], line 3\u001b[0m\n\u001b[0;32m      1\u001b[0m indexer\u001b[38;5;241m=\u001b[39mStringIndexer(inputCol\u001b[38;5;241m=\u001b[39m\u001b[38;5;124m\"\u001b[39m\u001b[38;5;124mmanufacturer\u001b[39m\u001b[38;5;124m\"\u001b[39m,outputCol\u001b[38;5;241m=\u001b[39m\u001b[38;5;124m\"\u001b[39m\u001b[38;5;124mmanufacturer_cat\u001b[39m\u001b[38;5;124m\"\u001b[39m)\n\u001b[0;32m      2\u001b[0m indexed\u001b[38;5;241m=\u001b[39mindexer\u001b[38;5;241m.\u001b[39mfit(df)\u001b[38;5;241m.\u001b[39mtransform(df)\n\u001b[1;32m----> 3\u001b[0m indexed\u001b[38;5;241m=\u001b[39mindexer\u001b[38;5;241m.\u001b[39mfit(indexed)\u001b[38;5;241m.\u001b[39mtransform(indexed)\n",
      "File \u001b[1;32m~\\anaconda3\\Lib\\site-packages\\pyspark\\ml\\base.py:205\u001b[0m, in \u001b[0;36mEstimator.fit\u001b[1;34m(self, dataset, params)\u001b[0m\n\u001b[0;32m    203\u001b[0m         \u001b[38;5;28;01mreturn\u001b[39;00m \u001b[38;5;28mself\u001b[39m\u001b[38;5;241m.\u001b[39mcopy(params)\u001b[38;5;241m.\u001b[39m_fit(dataset)\n\u001b[0;32m    204\u001b[0m     \u001b[38;5;28;01melse\u001b[39;00m:\n\u001b[1;32m--> 205\u001b[0m         \u001b[38;5;28;01mreturn\u001b[39;00m \u001b[38;5;28mself\u001b[39m\u001b[38;5;241m.\u001b[39m_fit(dataset)\n\u001b[0;32m    206\u001b[0m \u001b[38;5;28;01melse\u001b[39;00m:\n\u001b[0;32m    207\u001b[0m     \u001b[38;5;28;01mraise\u001b[39;00m \u001b[38;5;167;01mTypeError\u001b[39;00m(\n\u001b[0;32m    208\u001b[0m         \u001b[38;5;124m\"\u001b[39m\u001b[38;5;124mParams must be either a param map or a list/tuple of param maps, \u001b[39m\u001b[38;5;124m\"\u001b[39m\n\u001b[0;32m    209\u001b[0m         \u001b[38;5;124m\"\u001b[39m\u001b[38;5;124mbut got \u001b[39m\u001b[38;5;132;01m%s\u001b[39;00m\u001b[38;5;124m.\u001b[39m\u001b[38;5;124m\"\u001b[39m \u001b[38;5;241m%\u001b[39m \u001b[38;5;28mtype\u001b[39m(params)\n\u001b[0;32m    210\u001b[0m     )\n",
      "File \u001b[1;32m~\\anaconda3\\Lib\\site-packages\\pyspark\\ml\\wrapper.py:381\u001b[0m, in \u001b[0;36mJavaEstimator._fit\u001b[1;34m(self, dataset)\u001b[0m\n\u001b[0;32m    380\u001b[0m \u001b[38;5;28;01mdef\u001b[39;00m \u001b[38;5;21m_fit\u001b[39m(\u001b[38;5;28mself\u001b[39m, dataset: DataFrame) \u001b[38;5;241m-\u001b[39m\u001b[38;5;241m>\u001b[39m JM:\n\u001b[1;32m--> 381\u001b[0m     java_model \u001b[38;5;241m=\u001b[39m \u001b[38;5;28mself\u001b[39m\u001b[38;5;241m.\u001b[39m_fit_java(dataset)\n\u001b[0;32m    382\u001b[0m     model \u001b[38;5;241m=\u001b[39m \u001b[38;5;28mself\u001b[39m\u001b[38;5;241m.\u001b[39m_create_model(java_model)\n\u001b[0;32m    383\u001b[0m     \u001b[38;5;28;01mreturn\u001b[39;00m \u001b[38;5;28mself\u001b[39m\u001b[38;5;241m.\u001b[39m_copyValues(model)\n",
      "File \u001b[1;32m~\\anaconda3\\Lib\\site-packages\\pyspark\\ml\\wrapper.py:378\u001b[0m, in \u001b[0;36mJavaEstimator._fit_java\u001b[1;34m(self, dataset)\u001b[0m\n\u001b[0;32m    375\u001b[0m \u001b[38;5;28;01massert\u001b[39;00m \u001b[38;5;28mself\u001b[39m\u001b[38;5;241m.\u001b[39m_java_obj \u001b[38;5;129;01mis\u001b[39;00m \u001b[38;5;129;01mnot\u001b[39;00m \u001b[38;5;28;01mNone\u001b[39;00m\n\u001b[0;32m    377\u001b[0m \u001b[38;5;28mself\u001b[39m\u001b[38;5;241m.\u001b[39m_transfer_params_to_java()\n\u001b[1;32m--> 378\u001b[0m \u001b[38;5;28;01mreturn\u001b[39;00m \u001b[38;5;28mself\u001b[39m\u001b[38;5;241m.\u001b[39m_java_obj\u001b[38;5;241m.\u001b[39mfit(dataset\u001b[38;5;241m.\u001b[39m_jdf)\n",
      "File \u001b[1;32m~\\anaconda3\\Lib\\site-packages\\py4j\\java_gateway.py:1322\u001b[0m, in \u001b[0;36mJavaMember.__call__\u001b[1;34m(self, *args)\u001b[0m\n\u001b[0;32m   1316\u001b[0m command \u001b[38;5;241m=\u001b[39m proto\u001b[38;5;241m.\u001b[39mCALL_COMMAND_NAME \u001b[38;5;241m+\u001b[39m\\\n\u001b[0;32m   1317\u001b[0m     \u001b[38;5;28mself\u001b[39m\u001b[38;5;241m.\u001b[39mcommand_header \u001b[38;5;241m+\u001b[39m\\\n\u001b[0;32m   1318\u001b[0m     args_command \u001b[38;5;241m+\u001b[39m\\\n\u001b[0;32m   1319\u001b[0m     proto\u001b[38;5;241m.\u001b[39mEND_COMMAND_PART\n\u001b[0;32m   1321\u001b[0m answer \u001b[38;5;241m=\u001b[39m \u001b[38;5;28mself\u001b[39m\u001b[38;5;241m.\u001b[39mgateway_client\u001b[38;5;241m.\u001b[39msend_command(command)\n\u001b[1;32m-> 1322\u001b[0m return_value \u001b[38;5;241m=\u001b[39m get_return_value(\n\u001b[0;32m   1323\u001b[0m     answer, \u001b[38;5;28mself\u001b[39m\u001b[38;5;241m.\u001b[39mgateway_client, \u001b[38;5;28mself\u001b[39m\u001b[38;5;241m.\u001b[39mtarget_id, \u001b[38;5;28mself\u001b[39m\u001b[38;5;241m.\u001b[39mname)\n\u001b[0;32m   1325\u001b[0m \u001b[38;5;28;01mfor\u001b[39;00m temp_arg \u001b[38;5;129;01min\u001b[39;00m temp_args:\n\u001b[0;32m   1326\u001b[0m     \u001b[38;5;28;01mif\u001b[39;00m \u001b[38;5;28mhasattr\u001b[39m(temp_arg, \u001b[38;5;124m\"\u001b[39m\u001b[38;5;124m_detach\u001b[39m\u001b[38;5;124m\"\u001b[39m):\n",
      "File \u001b[1;32m~\\anaconda3\\Lib\\site-packages\\pyspark\\errors\\exceptions\\captured.py:185\u001b[0m, in \u001b[0;36mcapture_sql_exception.<locals>.deco\u001b[1;34m(*a, **kw)\u001b[0m\n\u001b[0;32m    181\u001b[0m converted \u001b[38;5;241m=\u001b[39m convert_exception(e\u001b[38;5;241m.\u001b[39mjava_exception)\n\u001b[0;32m    182\u001b[0m \u001b[38;5;28;01mif\u001b[39;00m \u001b[38;5;129;01mnot\u001b[39;00m \u001b[38;5;28misinstance\u001b[39m(converted, UnknownException):\n\u001b[0;32m    183\u001b[0m     \u001b[38;5;66;03m# Hide where the exception came from that shows a non-Pythonic\u001b[39;00m\n\u001b[0;32m    184\u001b[0m     \u001b[38;5;66;03m# JVM exception message.\u001b[39;00m\n\u001b[1;32m--> 185\u001b[0m     \u001b[38;5;28;01mraise\u001b[39;00m converted \u001b[38;5;28;01mfrom\u001b[39;00m \u001b[38;5;28;01mNone\u001b[39;00m\n\u001b[0;32m    186\u001b[0m \u001b[38;5;28;01melse\u001b[39;00m:\n\u001b[0;32m    187\u001b[0m     \u001b[38;5;28;01mraise\u001b[39;00m\n",
      "\u001b[1;31mIllegalArgumentException\u001b[0m: requirement failed: Output column manufacturer_cat already exists."
     ]
    }
   ],
   "source": [
    "indexer=StringIndexer(inputCol=\"manufacturer\",outputCol=\"manufacturer_cat\")\n",
    "indexed=indexer.fit(df).transform(df)\n",
    "indexed=indexer.fit(indexed).transform(indexed)"
   ]
  },
  {
   "cell_type": "code",
   "execution_count": 15,
   "id": "da138639",
   "metadata": {},
   "outputs": [
    {
     "name": "stdout",
     "output_type": "stream",
     "text": [
      "+-----+----+------------+-----+---------+------------+----+--------+------------+------------+-----+-----+-----------+-----+----------------+\n",
      "|price|year|manufacturer|model|condition|   cylinders|fuel|odometer|title_status|transmission|drive| type|paint_color|state|manufacturer_cat|\n",
      "+-----+----+------------+-----+---------+------------+----+--------+------------+------------+-----+-----+-----------+-----+----------------+\n",
      "| 6000|2011|        ford|f-150|     good|6 cylindersw| gas|   98729|       clean|   automatic|  4wd|sedan|      white|   az|             0.0|\n",
      "|11900|2011|        ford|f-150|     good|6 cylindersw| gas|   98729|       clean|   automatic|  4wd|sedan|      white|   ar|             0.0|\n",
      "+-----+----+------------+-----+---------+------------+----+--------+------------+------------+-----+-----+-----------+-----+----------------+\n",
      "only showing top 2 rows\n",
      "\n"
     ]
    }
   ],
   "source": [
    "indexed.show(2)"
   ]
  },
  {
   "cell_type": "code",
   "execution_count": 20,
   "id": "47685454",
   "metadata": {},
   "outputs": [
    {
     "data": {
      "text/plain": [
       "0.0011606699334546834"
      ]
     },
     "execution_count": 20,
     "metadata": {},
     "output_type": "execute_result"
    }
   ],
   "source": [
    "#indexed.corr(\"price\",\"region_cat\")"
   ]
  },
  {
   "cell_type": "code",
   "execution_count": 16,
   "id": "2d22f47d",
   "metadata": {},
   "outputs": [
    {
     "data": {
      "text/plain": [
       "-0.0007130114010283831"
      ]
     },
     "execution_count": 16,
     "metadata": {},
     "output_type": "execute_result"
    }
   ],
   "source": [
    "indexed.corr(\"price\",\"manufacturer_cat\")"
   ]
  },
  {
   "cell_type": "code",
   "execution_count": 17,
   "id": "9d8f1123",
   "metadata": {},
   "outputs": [],
   "source": [
    "indexer=StringIndexer(inputCol=\"model\",outputCol=\"model_cat\")\n",
    "indexed=indexer.fit(indexed).transform(indexed)"
   ]
  },
  {
   "cell_type": "code",
   "execution_count": 18,
   "id": "c315fab0",
   "metadata": {},
   "outputs": [],
   "source": [
    "indexer=StringIndexer(inputCol=\"condition\",outputCol=\"condition_cat\")\n",
    "indexed=indexer.fit(indexed).transform(indexed)"
   ]
  },
  {
   "cell_type": "code",
   "execution_count": 19,
   "id": "9cfe0b22",
   "metadata": {},
   "outputs": [],
   "source": [
    "indexer=StringIndexer(inputCol=\"cylinders\",outputCol=\"cylinders_cat\")\n",
    "indexed=indexer.fit(indexed).transform(indexed)"
   ]
  },
  {
   "cell_type": "code",
   "execution_count": 20,
   "id": "5c225d13",
   "metadata": {},
   "outputs": [],
   "source": [
    "indexer=StringIndexer(inputCol=\"fuel\",outputCol=\"fuel_cat\")\n",
    "indexed=indexer.fit(indexed).transform(indexed)"
   ]
  },
  {
   "cell_type": "code",
   "execution_count": 21,
   "id": "e33bc128",
   "metadata": {},
   "outputs": [],
   "source": [
    "indexer=StringIndexer(inputCol=\"title_status\",outputCol=\"title_status_cat\")\n",
    "indexed=indexer.fit(indexed).transform(indexed)"
   ]
  },
  {
   "cell_type": "code",
   "execution_count": 22,
   "id": "2623f6de",
   "metadata": {},
   "outputs": [],
   "source": [
    "indexer=StringIndexer(inputCol=\"transmission\",outputCol=\"transmission_cat\")\n",
    "indexed=indexer.fit(indexed).transform(indexed)"
   ]
  },
  {
   "cell_type": "code",
   "execution_count": 23,
   "id": "5a6266e9",
   "metadata": {},
   "outputs": [],
   "source": [
    "indexer=StringIndexer(inputCol=\"drive\",outputCol=\"drive_cat\")\n",
    "indexed=indexer.fit(indexed).transform(indexed)"
   ]
  },
  {
   "cell_type": "code",
   "execution_count": 24,
   "id": "61efe460",
   "metadata": {},
   "outputs": [],
   "source": [
    "indexer=StringIndexer(inputCol=\"type\",outputCol=\"type_cat\")\n",
    "indexed=indexer.fit(indexed).transform(indexed)"
   ]
  },
  {
   "cell_type": "code",
   "execution_count": 25,
   "id": "98489ceb",
   "metadata": {},
   "outputs": [],
   "source": [
    "indexer=StringIndexer(inputCol=\"paint_color\",outputCol=\"paint_color_cat\")\n",
    "indexed=indexer.fit(indexed).transform(indexed)"
   ]
  },
  {
   "cell_type": "code",
   "execution_count": 26,
   "id": "447bb9db",
   "metadata": {},
   "outputs": [],
   "source": [
    "indexer=StringIndexer(inputCol=\"state\",outputCol=\"status_cat\")\n",
    "indexed=indexer.fit(indexed).transform(indexed)"
   ]
  },
  {
   "cell_type": "code",
   "execution_count": 27,
   "id": "ca643ed0",
   "metadata": {},
   "outputs": [],
   "source": [
    "from pyspark.ml.linalg import Vector\n",
    "from pyspark.ml.feature import VectorAssembler"
   ]
  },
  {
   "cell_type": "code",
   "execution_count": 28,
   "id": "f6860b73",
   "metadata": {},
   "outputs": [
    {
     "data": {
      "text/plain": [
       "['price',\n",
       " 'year',\n",
       " 'manufacturer',\n",
       " 'model',\n",
       " 'condition',\n",
       " 'cylinders',\n",
       " 'fuel',\n",
       " 'odometer',\n",
       " 'title_status',\n",
       " 'transmission',\n",
       " 'drive',\n",
       " 'type',\n",
       " 'paint_color',\n",
       " 'state',\n",
       " 'manufacturer_cat',\n",
       " 'model_cat',\n",
       " 'condition_cat',\n",
       " 'cylinders_cat',\n",
       " 'fuel_cat',\n",
       " 'title_status_cat',\n",
       " 'transmission_cat',\n",
       " 'drive_cat',\n",
       " 'type_cat',\n",
       " 'paint_color_cat',\n",
       " 'status_cat']"
      ]
     },
     "execution_count": 28,
     "metadata": {},
     "output_type": "execute_result"
    }
   ],
   "source": [
    "indexed.columns"
   ]
  },
  {
   "cell_type": "code",
   "execution_count": 29,
   "id": "5fc25008",
   "metadata": {},
   "outputs": [],
   "source": [
    "assembler=VectorAssembler(inputCols=[\"manufacturer_cat\",\"model_cat\",\"condition_cat\",\"cylinders_cat\",\"fuel_cat\",\"title_status_cat\",\"transmission_cat\",\"drive_cat\",\n",
    "\"type_cat\",\"paint_color_cat\",\"status_cat\",\"odometer\",\"year\"],outputCol=\"features\")"
   ]
  },
  {
   "cell_type": "code",
   "execution_count": 30,
   "id": "55860674",
   "metadata": {},
   "outputs": [
    {
     "data": {
      "text/plain": [
       "VectorAssembler_ef48b13a91c7"
      ]
     },
     "execution_count": 30,
     "metadata": {},
     "output_type": "execute_result"
    }
   ],
   "source": [
    "assembler"
   ]
  },
  {
   "cell_type": "code",
   "execution_count": 31,
   "id": "e59420bc",
   "metadata": {},
   "outputs": [],
   "source": [
    "output=assembler.transform(indexed)"
   ]
  },
  {
   "cell_type": "code",
   "execution_count": 32,
   "id": "64e35818",
   "metadata": {},
   "outputs": [
    {
     "name": "stdout",
     "output_type": "stream",
     "text": [
      "+-----+----+------------+-----+---------+------------+----+--------+------------+------------+-----+-----+-----------+-----+----------------+---------+-------------+-------------+--------+----------------+----------------+---------+--------+---------------+----------+--------------------+\n",
      "|price|year|manufacturer|model|condition|   cylinders|fuel|odometer|title_status|transmission|drive| type|paint_color|state|manufacturer_cat|model_cat|condition_cat|cylinders_cat|fuel_cat|title_status_cat|transmission_cat|drive_cat|type_cat|paint_color_cat|status_cat|            features|\n",
      "+-----+----+------------+-----+---------+------------+----+--------+------------+------------+-----+-----+-----------+-----+----------------+---------+-------------+-------------+--------+----------------+----------------+---------+--------+---------------+----------+--------------------+\n",
      "| 6000|2011|        ford|f-150|     good|6 cylindersw| gas|   98729|       clean|   automatic|  4wd|sedan|      white|   az|             0.0|      0.0|          0.0|          0.0|     0.0|             0.0|             0.0|      0.0|     0.0|            0.0|      15.0|(13,[10,11,12],[1...|\n",
      "|11900|2011|        ford|f-150|     good|6 cylindersw| gas|   98729|       clean|   automatic|  4wd|sedan|      white|   ar|             0.0|      0.0|          0.0|          0.0|     0.0|             0.0|             0.0|      0.0|     0.0|            0.0|      33.0|(13,[10,11,12],[3...|\n",
      "|21000|2011|        ford|f-150|     good|6 cylindersw| gas|   98729|       clean|   automatic|  4wd|sedan|      white|   fl|             0.0|      0.0|          0.0|          0.0|     0.0|             0.0|             0.0|      0.0|     0.0|            0.0|       1.0|(13,[10,11,12],[1...|\n",
      "| 1500|2011|        ford|f-150|     good|6 cylindersw| gas|   98729|       clean|   automatic|  4wd|sedan|      white|   ma|             0.0|      0.0|          0.0|          0.0|     0.0|             0.0|             0.0|      0.0|     0.0|            0.0|      16.0|(13,[10,11,12],[1...|\n",
      "| 4900|2011|        ford|f-150|     good|6 cylindersw| gas|   98729|       clean|   automatic|  4wd|sedan|      white|   nc|             0.0|      0.0|          0.0|          0.0|     0.0|             0.0|             0.0|      0.0|     0.0|            0.0|       8.0|(13,[10,11,12],[8...|\n",
      "| 1600|2011|        ford|f-150|     good|6 cylindersw| gas|   98729|       clean|   automatic|  4wd|sedan|      white|   ny|             0.0|      0.0|          0.0|          0.0|     0.0|             0.0|             0.0|      0.0|     0.0|            0.0|       3.0|(13,[10,11,12],[3...|\n",
      "| 1000|2011|        ford|f-150|     good|6 cylindersw| gas|   98729|       clean|   automatic|  4wd|sedan|      white|   ny|             0.0|      0.0|          0.0|          0.0|     0.0|             0.0|             0.0|      0.0|     0.0|            0.0|       3.0|(13,[10,11,12],[3...|\n",
      "|15995|2011|        ford|f-150|     good|6 cylindersw| gas|   98729|       clean|   automatic|  4wd|sedan|      white|   ny|             0.0|      0.0|          0.0|          0.0|     0.0|             0.0|             0.0|      0.0|     0.0|            0.0|       3.0|(13,[10,11,12],[3...|\n",
      "| 5000|2011|        ford|f-150|     good|6 cylindersw| gas|   98729|       clean|   automatic|  4wd|sedan|      white|   or|             0.0|      0.0|          0.0|          0.0|     0.0|             0.0|             0.0|      0.0|     0.0|            0.0|       7.0|(13,[10,11,12],[7...|\n",
      "| 3000|2011|        ford|f-150|     good|6 cylindersw| gas|   98729|       clean|   automatic|  4wd|sedan|      white|   pa|             0.0|      0.0|          0.0|          0.0|     0.0|             0.0|             0.0|      0.0|     0.0|            0.0|       6.0|(13,[10,11,12],[6...|\n",
      "|13995|2011|        ford|f-150|     good|6 cylindersw| gas|   98729|       clean|   automatic|  4wd|sedan|      white|   wa|             0.0|      0.0|          0.0|          0.0|     0.0|             0.0|             0.0|      0.0|     0.0|            0.0|      17.0|(13,[10,11,12],[1...|\n",
      "|24999|2011|        ford|f-150|     good|6 cylindersw| gas|   98729|       clean|   automatic|  4wd|sedan|      white|   wa|             0.0|      0.0|          0.0|          0.0|     0.0|             0.0|             0.0|      0.0|     0.0|            0.0|      17.0|(13,[10,11,12],[1...|\n",
      "|21850|2011|        ford|f-150|     good|6 cylindersw| gas|   98729|       clean|   automatic|  4wd|sedan|      white|   wa|             0.0|      0.0|          0.0|          0.0|     0.0|             0.0|             0.0|      0.0|     0.0|            0.0|      17.0|(13,[10,11,12],[1...|\n",
      "|26850|2011|        ford|f-150|     good|6 cylindersw| gas|   98729|       clean|   automatic|  4wd|sedan|      white|   wa|             0.0|      0.0|          0.0|          0.0|     0.0|             0.0|             0.0|      0.0|     0.0|            0.0|      17.0|(13,[10,11,12],[1...|\n",
      "|11999|2011|        ford|f-150|     good|6 cylindersw| gas|   98729|       clean|   automatic|  4wd|sedan|      white|   wa|             0.0|      0.0|          0.0|          0.0|     0.0|             0.0|             0.0|      0.0|     0.0|            0.0|      17.0|(13,[10,11,12],[1...|\n",
      "|24999|2011|        ford|f-150|     good|6 cylindersw| gas|   98729|       clean|   automatic|  4wd|sedan|      white|   wa|             0.0|      0.0|          0.0|          0.0|     0.0|             0.0|             0.0|      0.0|     0.0|            0.0|      17.0|(13,[10,11,12],[1...|\n",
      "|21850|2011|        ford|f-150|     good|6 cylindersw| gas|   98729|       clean|   automatic|  4wd|sedan|      white|   wa|             0.0|      0.0|          0.0|          0.0|     0.0|             0.0|             0.0|      0.0|     0.0|            0.0|      17.0|(13,[10,11,12],[1...|\n",
      "|26850|2011|        ford|f-150|     good|6 cylindersw| gas|   98729|       clean|   automatic|  4wd|sedan|      white|   wa|             0.0|      0.0|          0.0|          0.0|     0.0|             0.0|             0.0|      0.0|     0.0|            0.0|      17.0|(13,[10,11,12],[1...|\n",
      "|11999|2011|        ford|f-150|     good|6 cylindersw| gas|   98729|       clean|   automatic|  4wd|sedan|      white|   wa|             0.0|      0.0|          0.0|          0.0|     0.0|             0.0|             0.0|      0.0|     0.0|            0.0|      17.0|(13,[10,11,12],[1...|\n",
      "|24999|2011|        ford|f-150|     good|6 cylindersw| gas|   98729|       clean|   automatic|  4wd|sedan|      white|   wa|             0.0|      0.0|          0.0|          0.0|     0.0|             0.0|             0.0|      0.0|     0.0|            0.0|      17.0|(13,[10,11,12],[1...|\n",
      "+-----+----+------------+-----+---------+------------+----+--------+------------+------------+-----+-----+-----------+-----+----------------+---------+-------------+-------------+--------+----------------+----------------+---------+--------+---------------+----------+--------------------+\n",
      "only showing top 20 rows\n",
      "\n"
     ]
    }
   ],
   "source": [
    "output.show()"
   ]
  },
  {
   "cell_type": "code",
   "execution_count": 33,
   "id": "a216bf32",
   "metadata": {},
   "outputs": [
    {
     "name": "stdout",
     "output_type": "stream",
     "text": [
      "+-------------------------------------+-----+\n",
      "|features                             |price|\n",
      "+-------------------------------------+-----+\n",
      "|(13,[10,11,12],[15.0,98729.0,2011.0])|6000 |\n",
      "|(13,[10,11,12],[33.0,98729.0,2011.0])|11900|\n",
      "|(13,[10,11,12],[1.0,98729.0,2011.0]) |21000|\n",
      "|(13,[10,11,12],[16.0,98729.0,2011.0])|1500 |\n",
      "|(13,[10,11,12],[8.0,98729.0,2011.0]) |4900 |\n",
      "|(13,[10,11,12],[3.0,98729.0,2011.0]) |1600 |\n",
      "|(13,[10,11,12],[3.0,98729.0,2011.0]) |1000 |\n",
      "|(13,[10,11,12],[3.0,98729.0,2011.0]) |15995|\n",
      "|(13,[10,11,12],[7.0,98729.0,2011.0]) |5000 |\n",
      "|(13,[10,11,12],[6.0,98729.0,2011.0]) |3000 |\n",
      "|(13,[10,11,12],[17.0,98729.0,2011.0])|13995|\n",
      "|(13,[10,11,12],[17.0,98729.0,2011.0])|24999|\n",
      "|(13,[10,11,12],[17.0,98729.0,2011.0])|21850|\n",
      "|(13,[10,11,12],[17.0,98729.0,2011.0])|26850|\n",
      "|(13,[10,11,12],[17.0,98729.0,2011.0])|11999|\n",
      "|(13,[10,11,12],[17.0,98729.0,2011.0])|24999|\n",
      "|(13,[10,11,12],[17.0,98729.0,2011.0])|21850|\n",
      "|(13,[10,11,12],[17.0,98729.0,2011.0])|26850|\n",
      "|(13,[10,11,12],[17.0,98729.0,2011.0])|11999|\n",
      "|(13,[10,11,12],[17.0,98729.0,2011.0])|24999|\n",
      "+-------------------------------------+-----+\n",
      "only showing top 20 rows\n",
      "\n"
     ]
    }
   ],
   "source": [
    "output.select(\"features\",\"price\").show(truncate=False)"
   ]
  },
  {
   "cell_type": "code",
   "execution_count": 34,
   "id": "fe2d324d",
   "metadata": {},
   "outputs": [],
   "source": [
    "final_dataframe=output.select(\"features\",\"price\")"
   ]
  },
  {
   "cell_type": "code",
   "execution_count": 35,
   "id": "a9e2f888",
   "metadata": {},
   "outputs": [
    {
     "name": "stdout",
     "output_type": "stream",
     "text": [
      "+--------------------+-----+\n",
      "|            features|price|\n",
      "+--------------------+-----+\n",
      "|(13,[10,11,12],[1...| 6000|\n",
      "|(13,[10,11,12],[3...|11900|\n",
      "|(13,[10,11,12],[1...|21000|\n",
      "|(13,[10,11,12],[1...| 1500|\n",
      "|(13,[10,11,12],[8...| 4900|\n",
      "|(13,[10,11,12],[3...| 1600|\n",
      "|(13,[10,11,12],[3...| 1000|\n",
      "|(13,[10,11,12],[3...|15995|\n",
      "|(13,[10,11,12],[7...| 5000|\n",
      "|(13,[10,11,12],[6...| 3000|\n",
      "|(13,[10,11,12],[1...|13995|\n",
      "|(13,[10,11,12],[1...|24999|\n",
      "|(13,[10,11,12],[1...|21850|\n",
      "|(13,[10,11,12],[1...|26850|\n",
      "|(13,[10,11,12],[1...|11999|\n",
      "|(13,[10,11,12],[1...|24999|\n",
      "|(13,[10,11,12],[1...|21850|\n",
      "|(13,[10,11,12],[1...|26850|\n",
      "|(13,[10,11,12],[1...|11999|\n",
      "|(13,[10,11,12],[1...|24999|\n",
      "+--------------------+-----+\n",
      "only showing top 20 rows\n",
      "\n"
     ]
    }
   ],
   "source": [
    "final_dataframe.show()"
   ]
  },
  {
   "cell_type": "code",
   "execution_count": 36,
   "id": "052e86cc",
   "metadata": {},
   "outputs": [],
   "source": [
    "train_data,test_data=final_dataframe.randomSplit([0.7,0.3])"
   ]
  },
  {
   "cell_type": "code",
   "execution_count": 37,
   "id": "52d7cd3f",
   "metadata": {},
   "outputs": [
    {
     "data": {
      "text/plain": [
       "DataFrame[features: vector, price: int]"
      ]
     },
     "execution_count": 37,
     "metadata": {},
     "output_type": "execute_result"
    }
   ],
   "source": [
    "train_data"
   ]
  },
  {
   "cell_type": "code",
   "execution_count": 38,
   "id": "e17ea265",
   "metadata": {},
   "outputs": [
    {
     "data": {
      "text/plain": [
       "DataFrame[features: vector, price: int]"
      ]
     },
     "execution_count": 38,
     "metadata": {},
     "output_type": "execute_result"
    }
   ],
   "source": [
    "train_data"
   ]
  },
  {
   "cell_type": "code",
   "execution_count": 39,
   "id": "c103c0aa",
   "metadata": {},
   "outputs": [
    {
     "data": {
      "text/plain": [
       "DataFrame[features: vector, price: int]"
      ]
     },
     "execution_count": 39,
     "metadata": {},
     "output_type": "execute_result"
    }
   ],
   "source": [
    "test_data"
   ]
  },
  {
   "cell_type": "code",
   "execution_count": 40,
   "id": "3047e933",
   "metadata": {},
   "outputs": [],
   "source": [
    "from pyspark.ml.regression import LinearRegression"
   ]
  },
  {
   "cell_type": "code",
   "execution_count": 41,
   "id": "f739072e",
   "metadata": {},
   "outputs": [],
   "source": [
    "lr=LinearRegression(featuresCol=\"features\",labelCol=\"price\")"
   ]
  },
  {
   "cell_type": "code",
   "execution_count": 42,
   "id": "94871c39",
   "metadata": {},
   "outputs": [],
   "source": [
    "trained_model=lr.fit(train_data)"
   ]
  },
  {
   "cell_type": "code",
   "execution_count": 43,
   "id": "b6679eef",
   "metadata": {},
   "outputs": [
    {
     "data": {
      "text/plain": [
       "LinearRegressionModel: uid=LinearRegression_060cd8ac4853, numFeatures=13"
      ]
     },
     "execution_count": 43,
     "metadata": {},
     "output_type": "execute_result"
    }
   ],
   "source": [
    "trained_model"
   ]
  },
  {
   "cell_type": "code",
   "execution_count": 44,
   "id": "3e09aeb4",
   "metadata": {},
   "outputs": [],
   "source": [
    "result=trained_model.evaluate(train_data)"
   ]
  },
  {
   "cell_type": "code",
   "execution_count": 45,
   "id": "746d45ed",
   "metadata": {},
   "outputs": [
    {
     "name": "stdout",
     "output_type": "stream",
     "text": [
      "0.001681491242096933\n"
     ]
    }
   ],
   "source": [
    "print(result.r2)"
   ]
  },
  {
   "cell_type": "code",
   "execution_count": 46,
   "id": "697d161f",
   "metadata": {},
   "outputs": [
    {
     "name": "stdout",
     "output_type": "stream",
     "text": [
      "27306343906176.316\n"
     ]
    }
   ],
   "source": [
    "print(result.meanSquaredError)"
   ]
  },
  {
   "cell_type": "code",
   "execution_count": 47,
   "id": "dde0ebcd",
   "metadata": {},
   "outputs": [
    {
     "name": "stdout",
     "output_type": "stream",
     "text": [
      "105062.75583147534\n"
     ]
    }
   ],
   "source": [
    "print(result.meanAbsoluteError)"
   ]
  },
  {
   "cell_type": "code",
   "execution_count": 48,
   "id": "ac5673b0",
   "metadata": {},
   "outputs": [],
   "source": [
    "unlabeled_data=test_data.select(\"features\")"
   ]
  },
  {
   "cell_type": "code",
   "execution_count": 49,
   "id": "8670cf8e",
   "metadata": {},
   "outputs": [],
   "source": [
    "predictions=trained_model.transform(unlabeled_data)"
   ]
  },
  {
   "cell_type": "code",
   "execution_count": 50,
   "id": "c7892762",
   "metadata": {},
   "outputs": [
    {
     "name": "stdout",
     "output_type": "stream",
     "text": [
      "+--------------------+-------------------+\n",
      "|            features|         prediction|\n",
      "+--------------------+-------------------+\n",
      "|(13,[0,1,2,3,4,7,...|  43035.57753712498|\n",
      "|(13,[0,1,2,3,4,8,...| -9153.354343037121|\n",
      "|(13,[0,1,2,3,4,11...|  185516.1609926736|\n",
      "|(13,[0,1,2,3,4,11...| 160175.39130702429|\n",
      "|(13,[0,1,2,3,4,11...|  162576.7633304391|\n",
      "|(13,[0,1,2,3,4,11...|-20292.825883017853|\n",
      "|(13,[0,1,2,3,4,11...| 109868.14851557929|\n",
      "|(13,[0,1,2,3,4,11...| 172263.56683586724|\n",
      "|(13,[0,1,2,3,4,11...|-25608.860828771256|\n",
      "|(13,[0,1,2,3,5,11...|-115130.98109546956|\n",
      "|(13,[0,1,2,3,5,11...| -39894.12134373188|\n",
      "|(13,[0,1,2,3,5,11...|-100503.51186726987|\n",
      "|(13,[0,1,2,3,5,11...| 18623.554169099778|\n",
      "|(13,[0,1,2,3,5,11...|  8230.756095546298|\n",
      "|(13,[0,1,2,3,5,11...| -135251.4839531798|\n",
      "|(13,[0,1,2,3,5,11...| -37090.57413534541|\n",
      "|(13,[0,1,2,3,6,8,...|  46349.85962607153|\n",
      "|(13,[0,1,2,3,6,11...| 169813.62818947528|\n",
      "|(13,[0,1,2,3,6,11...| 213400.11881729309|\n",
      "|(13,[0,1,2,3,6,11...| 121343.11787792854|\n",
      "+--------------------+-------------------+\n",
      "only showing top 20 rows\n",
      "\n"
     ]
    }
   ],
   "source": [
    "predictions.show()"
   ]
  },
  {
   "cell_type": "code",
   "execution_count": null,
   "id": "4c6b96e9",
   "metadata": {},
   "outputs": [],
   "source": []
  },
  {
   "cell_type": "code",
   "execution_count": null,
   "id": "9ab4e71a",
   "metadata": {},
   "outputs": [],
   "source": []
  }
 ],
 "metadata": {
  "kernelspec": {
   "display_name": "Python 3 (ipykernel)",
   "language": "python",
   "name": "python3"
  },
  "language_info": {
   "codemirror_mode": {
    "name": "ipython",
    "version": 3
   },
   "file_extension": ".py",
   "mimetype": "text/x-python",
   "name": "python",
   "nbconvert_exporter": "python",
   "pygments_lexer": "ipython3",
   "version": "3.11.5"
  }
 },
 "nbformat": 4,
 "nbformat_minor": 5
}
