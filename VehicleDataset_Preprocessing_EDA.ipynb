{
 "cells": [
  {
   "cell_type": "code",
   "execution_count": 2,
   "id": "678fff82",
   "metadata": {},
   "outputs": [],
   "source": [
    "import findspark\n",
    "findspark.init()\n",
    "import pyspark\n",
    "from pyspark.sql import SparkSession\n",
    "import matplotlib.pyplot as plt\n",
    "import pandas\n",
    "from pyspark.sql.functions import *\n",
    "import seaborn as sns"
   ]
  },
  {
   "cell_type": "code",
   "execution_count": 3,
   "id": "fa5fdb26",
   "metadata": {},
   "outputs": [],
   "source": [
    "spark = SparkSession.builder.appName(\"UsedCarPricePrediction\").getOrCreate()\n",
    "sc = spark.sparkContext"
   ]
  },
  {
   "cell_type": "code",
   "execution_count": 4,
   "id": "c2d6401f",
   "metadata": {},
   "outputs": [
    {
     "data": {
      "text/html": [
       "\n",
       "            <div>\n",
       "                <p><b>SparkSession - in-memory</b></p>\n",
       "                \n",
       "        <div>\n",
       "            <p><b>SparkContext</b></p>\n",
       "\n",
       "            <p><a href=\"http://LAPTOP-NSCSCJSG:4040\">Spark UI</a></p>\n",
       "\n",
       "            <dl>\n",
       "              <dt>Version</dt>\n",
       "                <dd><code>v3.3.0</code></dd>\n",
       "              <dt>Master</dt>\n",
       "                <dd><code>local[*]</code></dd>\n",
       "              <dt>AppName</dt>\n",
       "                <dd><code>UsedCarPricePrediction</code></dd>\n",
       "            </dl>\n",
       "        </div>\n",
       "        \n",
       "            </div>\n",
       "        "
      ],
      "text/plain": [
       "<pyspark.sql.session.SparkSession at 0x158a8244d60>"
      ]
     },
     "execution_count": 4,
     "metadata": {},
     "output_type": "execute_result"
    }
   ],
   "source": [
    "spark"
   ]
  },
  {
   "cell_type": "markdown",
   "id": "53e78016",
   "metadata": {},
   "source": [
    "#### Reading csv file in pyspark dataframe:"
   ]
  },
  {
   "cell_type": "code",
   "execution_count": 5,
   "id": "535b9f69",
   "metadata": {},
   "outputs": [],
   "source": [
    "df = spark.read.csv(r\"D:\\DBDA\\FINAL_PROJECT\\v1\\vehicles.csv\",header=True, inferSchema=True)"
   ]
  },
  {
   "cell_type": "code",
   "execution_count": 6,
   "id": "55c848da",
   "metadata": {},
   "outputs": [
    {
     "name": "stdout",
     "output_type": "stream",
     "text": [
      "root\n",
      " |-- id: string (nullable = true)\n",
      " |-- url: string (nullable = true)\n",
      " |-- region: string (nullable = true)\n",
      " |-- region_url: string (nullable = true)\n",
      " |-- price: string (nullable = true)\n",
      " |-- year: string (nullable = true)\n",
      " |-- manufacturer: string (nullable = true)\n",
      " |-- model: string (nullable = true)\n",
      " |-- condition: string (nullable = true)\n",
      " |-- cylinders: string (nullable = true)\n",
      " |-- fuel: string (nullable = true)\n",
      " |-- odometer: string (nullable = true)\n",
      " |-- title_status: string (nullable = true)\n",
      " |-- transmission: string (nullable = true)\n",
      " |-- VIN: string (nullable = true)\n",
      " |-- drive: string (nullable = true)\n",
      " |-- size: string (nullable = true)\n",
      " |-- type: string (nullable = true)\n",
      " |-- paint_color: string (nullable = true)\n",
      " |-- image_url: string (nullable = true)\n",
      " |-- description: string (nullable = true)\n",
      " |-- county: string (nullable = true)\n",
      " |-- state: string (nullable = true)\n",
      " |-- lat: string (nullable = true)\n",
      " |-- long: string (nullable = true)\n",
      " |-- posting_date: string (nullable = true)\n",
      "\n"
     ]
    }
   ],
   "source": [
    "df.printSchema()"
   ]
  },
  {
   "cell_type": "code",
   "execution_count": 7,
   "id": "74afdbc9",
   "metadata": {},
   "outputs": [
    {
     "name": "stdout",
     "output_type": "stream",
     "text": [
      "+----------+--------------------+--------------------+--------------------+-----+----+------------+-----+---------+---------+----+--------+------------+------------+----+-----+----+----+-----------+---------+-----------+------+-----+----+----+------------+\n",
      "|        id|                 url|              region|          region_url|price|year|manufacturer|model|condition|cylinders|fuel|odometer|title_status|transmission| VIN|drive|size|type|paint_color|image_url|description|county|state| lat|long|posting_date|\n",
      "+----------+--------------------+--------------------+--------------------+-----+----+------------+-----+---------+---------+----+--------+------------+------------+----+-----+----+----+-----------+---------+-----------+------+-----+----+----+------------+\n",
      "|7222695916|https://prescott....|            prescott|https://prescott....| 6000|null|        null| null|     null|     null|null|    null|        null|        null|null| null|null|null|       null|     null|       null|  null|   az|null|null|        null|\n",
      "|7218891961|https://fayar.cra...|        fayetteville|https://fayar.cra...|11900|null|        null| null|     null|     null|null|    null|        null|        null|null| null|null|null|       null|     null|       null|  null|   ar|null|null|        null|\n",
      "|7221797935|https://keys.crai...|        florida keys|https://keys.crai...|21000|null|        null| null|     null|     null|null|    null|        null|        null|null| null|null|null|       null|     null|       null|  null|   fl|null|null|        null|\n",
      "|7222270760|https://worcester...|worcester / centr...|https://worcester...| 1500|null|        null| null|     null|     null|null|    null|        null|        null|null| null|null|null|       null|     null|       null|  null|   ma|null|null|        null|\n",
      "|7210384030|https://greensbor...|          greensboro|https://greensbor...| 4900|null|        null| null|     null|     null|null|    null|        null|        null|null| null|null|null|       null|     null|       null|  null|   nc|null|null|        null|\n",
      "+----------+--------------------+--------------------+--------------------+-----+----+------------+-----+---------+---------+----+--------+------------+------------+----+-----+----+----+-----------+---------+-----------+------+-----+----+----+------------+\n",
      "only showing top 5 rows\n",
      "\n"
     ]
    }
   ],
   "source": [
    "df.show(5)"
   ]
  },
  {
   "cell_type": "code",
   "execution_count": 8,
   "id": "9c3f22a2",
   "metadata": {},
   "outputs": [
    {
     "data": {
      "text/plain": [
       "['id',\n",
       " 'url',\n",
       " 'region',\n",
       " 'region_url',\n",
       " 'price',\n",
       " 'year',\n",
       " 'manufacturer',\n",
       " 'model',\n",
       " 'condition',\n",
       " 'cylinders',\n",
       " 'fuel',\n",
       " 'odometer',\n",
       " 'title_status',\n",
       " 'transmission',\n",
       " 'VIN',\n",
       " 'drive',\n",
       " 'size',\n",
       " 'type',\n",
       " 'paint_color',\n",
       " 'image_url',\n",
       " 'description',\n",
       " 'county',\n",
       " 'state',\n",
       " 'lat',\n",
       " 'long',\n",
       " 'posting_date']"
      ]
     },
     "execution_count": 8,
     "metadata": {},
     "output_type": "execute_result"
    }
   ],
   "source": [
    "df.columns"
   ]
  },
  {
   "cell_type": "markdown",
   "id": "ddb285ab",
   "metadata": {},
   "source": [
    "#### Calculate the sum of null values for each column"
   ]
  },
  {
   "cell_type": "code",
   "execution_count": 9,
   "id": "4c393867",
   "metadata": {},
   "outputs": [
    {
     "name": "stdout",
     "output_type": "stream",
     "text": [
      "+---+----+------+----------+-----+----+------------+-----+---------+---------+-----+--------+------------+------------+------+------+------+------+-----------+---------+-----------+------+-----+-----+-----+------------+\n",
      "| id| url|region|region_url|price|year|manufacturer|model|condition|cylinders| fuel|odometer|title_status|transmission|   VIN| drive|  size|  type|paint_color|image_url|description|county|state|  lat| long|posting_date|\n",
      "+---+----+------+----------+-----+----+------------+-----+---------+---------+-----+--------+------------+------------+------+------+------+------+-----------+---------+-----------+------+-----+-----+-----+------------+\n",
      "|  0|9884|  6901|      6533| 6446|7890|       28937|17506|   187143|   190798|16344|   17801|       21618|       15932|174486|144178|319997|106892|     143839|    13732|      13733|382283|23077|25397|24715|       22477|\n",
      "+---+----+------+----------+-----+----+------------+-----+---------+---------+-----+--------+------------+------------+------+------+------+------+-----------+---------+-----------+------+-----+-----+-----+------------+\n",
      "\n"
     ]
    }
   ],
   "source": [
    "from pyspark.sql.functions import sum as spark_sum\n",
    "\n",
    "null_counts = df.select([spark_sum(col(column).isNull().cast('int')).alias(column) for column in df.columns])\n",
    "\n",
    "# Show the counts\n",
    "null_counts.show()\n"
   ]
  },
  {
   "cell_type": "code",
   "execution_count": 10,
   "id": "486e5679",
   "metadata": {},
   "outputs": [
    {
     "data": {
      "text/plain": [
       "441802"
      ]
     },
     "execution_count": 10,
     "metadata": {},
     "output_type": "execute_result"
    }
   ],
   "source": [
    "df.count()"
   ]
  },
  {
   "cell_type": "markdown",
   "id": "b15c2069",
   "metadata": {},
   "source": [
    "#### Drop the independent columns :"
   ]
  },
  {
   "cell_type": "code",
   "execution_count": 11,
   "id": "18e64d0b",
   "metadata": {},
   "outputs": [],
   "source": [
    "columns_to_delete = ['id', 'url', 'region_url','VIN','image_url','description','county','lat','long','posting_date','size','state']\n",
    "\n",
    "df1 = df.drop(*columns_to_delete)"
   ]
  },
  {
   "cell_type": "code",
   "execution_count": 12,
   "id": "c6e682e9",
   "metadata": {},
   "outputs": [
    {
     "data": {
      "text/plain": [
       "['region',\n",
       " 'price',\n",
       " 'year',\n",
       " 'manufacturer',\n",
       " 'model',\n",
       " 'condition',\n",
       " 'cylinders',\n",
       " 'fuel',\n",
       " 'odometer',\n",
       " 'title_status',\n",
       " 'transmission',\n",
       " 'drive',\n",
       " 'type',\n",
       " 'paint_color']"
      ]
     },
     "execution_count": 12,
     "metadata": {},
     "output_type": "execute_result"
    }
   ],
   "source": [
    "df1.columns"
   ]
  },
  {
   "cell_type": "code",
   "execution_count": 13,
   "id": "9ee58566",
   "metadata": {},
   "outputs": [
    {
     "data": {
      "text/plain": [
       "441802"
      ]
     },
     "execution_count": 13,
     "metadata": {},
     "output_type": "execute_result"
    }
   ],
   "source": [
    "df1.count()"
   ]
  },
  {
   "cell_type": "markdown",
   "id": "913e7587",
   "metadata": {},
   "source": [
    "#### drop duplicated records :"
   ]
  },
  {
   "cell_type": "code",
   "execution_count": 14,
   "id": "e0fcc0a1",
   "metadata": {},
   "outputs": [
    {
     "data": {
      "text/plain": [
       "376299"
      ]
     },
     "execution_count": 14,
     "metadata": {},
     "output_type": "execute_result"
    }
   ],
   "source": [
    "df2 = df1.distinct()\n",
    "df2.count()"
   ]
  },
  {
   "cell_type": "markdown",
   "id": "ffe44ed8",
   "metadata": {},
   "source": [
    "#### Calculate the percentage of null values for each column"
   ]
  },
  {
   "cell_type": "code",
   "execution_count": 15,
   "id": "9135887f",
   "metadata": {},
   "outputs": [
    {
     "name": "stdout",
     "output_type": "stream",
     "text": [
      "+----------------------+---------------------+--------------------+----------------------------+---------------------+-------------------------+-------------------------+--------------------+------------------------+----------------------------+----------------------------+---------------------+--------------------+---------------------------+\n",
      "|region_null_percentage|price_null_percentage|year_null_percentage|manufacturer_null_percentage|model_null_percentage|condition_null_percentage|cylinders_null_percentage|fuel_null_percentage|odometer_null_percentage|title_status_null_percentage|transmission_null_percentage|drive_null_percentage|type_null_percentage|paint_color_null_percentage|\n",
      "+----------------------+---------------------+--------------------+----------------------------+---------------------+-------------------------+-------------------------+--------------------+------------------------+----------------------------+----------------------------+---------------------+--------------------+---------------------------+\n",
      "|   0.21339413604606977| 0.013553052227085376|  0.3279307146710461|           5.315719680360564|   2.7326673735513514|       39.067337409878846|        41.59750623839022|  2.3127885006338045|      2.5838495451755117|           3.440880788947087|          2.2025038599624236|     31.5089862051188|  22.618715436394996|         30.537418382722247|\n",
      "+----------------------+---------------------+--------------------+----------------------------+---------------------+-------------------------+-------------------------+--------------------+------------------------+----------------------------+----------------------------+---------------------+--------------------+---------------------------+\n",
      "\n"
     ]
    }
   ],
   "source": [
    "null_counts = df2.select([spark_sum(col(column).isNull().cast('int')).alias(column) for column in df2.columns])\n",
    "\n",
    "total_rows = df2.count()\n",
    "\n",
    "null_percentages = null_counts.select([((col(column) / total_rows) * 100).alias(column + \"_null_percentage\") for column in df2.columns])\n",
    "\n",
    "null_percentages.show()\n"
   ]
  },
  {
   "cell_type": "markdown",
   "id": "5e065141",
   "metadata": {},
   "source": [
    "#### Drop rows with null values in specified columns"
   ]
  },
  {
   "cell_type": "markdown",
   "id": "d0cefd19",
   "metadata": {},
   "source": [
    "We can see that \"year\", \"manufacturer\", \"model\", and \"odometer\" column has less than 6% of null values. So we can simply drop those rows which have null values in these two columns."
   ]
  },
  {
   "cell_type": "code",
   "execution_count": 16,
   "id": "8b5f9943",
   "metadata": {},
   "outputs": [],
   "source": [
    "df3 = df2.na.drop(subset=['region','price','year','model','odometer','manufacturer','transmission','title_status','fuel'])"
   ]
  },
  {
   "cell_type": "code",
   "execution_count": 17,
   "id": "778dc973",
   "metadata": {},
   "outputs": [
    {
     "data": {
      "text/plain": [
       "338666"
      ]
     },
     "execution_count": 17,
     "metadata": {},
     "output_type": "execute_result"
    }
   ],
   "source": [
    "df3.count()"
   ]
  },
  {
   "cell_type": "code",
   "execution_count": 18,
   "id": "fd3ce5a9",
   "metadata": {},
   "outputs": [
    {
     "name": "stdout",
     "output_type": "stream",
     "text": [
      "root\n",
      " |-- region: string (nullable = true)\n",
      " |-- price: string (nullable = true)\n",
      " |-- year: string (nullable = true)\n",
      " |-- manufacturer: string (nullable = true)\n",
      " |-- model: string (nullable = true)\n",
      " |-- condition: string (nullable = true)\n",
      " |-- cylinders: string (nullable = true)\n",
      " |-- fuel: string (nullable = true)\n",
      " |-- odometer: string (nullable = true)\n",
      " |-- title_status: string (nullable = true)\n",
      " |-- transmission: string (nullable = true)\n",
      " |-- drive: string (nullable = true)\n",
      " |-- type: string (nullable = true)\n",
      " |-- paint_color: string (nullable = true)\n",
      "\n"
     ]
    }
   ],
   "source": [
    "df3.printSchema()"
   ]
  },
  {
   "cell_type": "markdown",
   "id": "6c7bd307",
   "metadata": {},
   "source": [
    "#### Calculate the sum of null values for each column"
   ]
  },
  {
   "cell_type": "code",
   "execution_count": 39,
   "id": "f91629a3",
   "metadata": {},
   "outputs": [
    {
     "name": "stdout",
     "output_type": "stream",
     "text": [
      "+------+-----+----+------------+-----+---------+---------+----+--------+------------+------------+-----+-----+-----------+\n",
      "|region|price|year|manufacturer|model|condition|cylinders|fuel|odometer|title_status|transmission|drive| type|paint_color|\n",
      "+------+-----+----+------------+-----+---------+---------+----+--------+------------+------------+-----+-----+-----------+\n",
      "|     0|    0|   0|           0|    0|   127475|   136976|   0|       0|           0|           0|99666|70209|      94125|\n",
      "+------+-----+----+------------+-----+---------+---------+----+--------+------------+------------+-----+-----+-----------+\n",
      "\n"
     ]
    }
   ],
   "source": [
    "null_counts = df3.select([spark_sum(col(column).isNull().cast('int')).alias(column) for column in df3.columns])\n",
    "\n",
    "null_counts.show()"
   ]
  },
  {
   "cell_type": "markdown",
   "id": "f0d39040",
   "metadata": {},
   "source": [
    "#### Handling Missing Values with Categorical Encoding"
   ]
  },
  {
   "cell_type": "markdown",
   "id": "a81742c5",
   "metadata": {},
   "source": [
    "For all the missing values in other columns, we have just converted them in to a new category, \"unknown\"\n",
    "In our data preprocessing pipeline, we've adopted a strategy to address missing values across various columns. When encountering missing data points in any column, we've uniformly encoded them as a new category labeled \"unknown\". This approach ensures that all missing values are consistently represented, enabling smoother data processing and analysis downstream."
   ]
  },
  {
   "cell_type": "markdown",
   "id": "08451e32",
   "metadata": {},
   "source": [
    "#### Replace null values in all columns with 'unknown'"
   ]
  },
  {
   "cell_type": "code",
   "execution_count": 21,
   "id": "350a3f1c",
   "metadata": {},
   "outputs": [],
   "source": [
    "df4 = df3.fillna('unknown')"
   ]
  },
  {
   "cell_type": "markdown",
   "id": "c18ebc18",
   "metadata": {},
   "source": [
    "#### Again Calculate the sum of null values for each column"
   ]
  },
  {
   "cell_type": "code",
   "execution_count": 41,
   "id": "cd460fc4",
   "metadata": {
    "scrolled": true
   },
   "outputs": [
    {
     "name": "stdout",
     "output_type": "stream",
     "text": [
      "+------+-----+----+------------+-----+---------+---------+----+--------+------------+------------+-----+----+-----------+\n",
      "|region|price|year|manufacturer|model|condition|cylinders|fuel|odometer|title_status|transmission|drive|type|paint_color|\n",
      "+------+-----+----+------------+-----+---------+---------+----+--------+------------+------------+-----+----+-----------+\n",
      "|     0|    0|   0|           0|    0|        0|        0|   0|       0|           0|           0|    0|   0|          0|\n",
      "+------+-----+----+------------+-----+---------+---------+----+--------+------------+------------+-----+----+-----------+\n",
      "\n"
     ]
    }
   ],
   "source": [
    "null_counts = df4.select([spark_sum(col(column).isNull().cast('int')).alias(column) for column in df4.columns])\n",
    "\n",
    "null_counts.show()"
   ]
  },
  {
   "cell_type": "markdown",
   "id": "aa1ed835",
   "metadata": {},
   "source": [
    "#### Calculating each column unique values:"
   ]
  },
  {
   "cell_type": "code",
   "execution_count": 23,
   "id": "86611fe7",
   "metadata": {},
   "outputs": [
    {
     "name": "stdout",
     "output_type": "stream",
     "text": [
      "region 414\n",
      "price 14689\n",
      "year 117\n",
      "manufacturer 51\n",
      "model 21876\n",
      "condition 56\n",
      "cylinders 18\n",
      "fuel 16\n",
      "odometer 99837\n",
      "title_status 16\n",
      "transmission 79\n",
      "drive 12\n",
      "type 22\n",
      "paint_color 49\n"
     ]
    }
   ],
   "source": [
    "# Iterate over each column in the DataFrame\n",
    "for col_name in df4.columns:\n",
    "    # Count the distinct values in the column\n",
    "    distinct_count = df4.select(countDistinct(col_name)).collect()[0][0]\n",
    "    print(col_name, distinct_count)"
   ]
  },
  {
   "cell_type": "markdown",
   "id": "f07079b0",
   "metadata": {},
   "source": [
    "###  handling cloumns :\n",
    "#### manufacturer "
   ]
  },
  {
   "cell_type": "code",
   "execution_count": 42,
   "id": "f84d6752",
   "metadata": {},
   "outputs": [
    {
     "name": "stdout",
     "output_type": "stream",
     "text": [
      "null records 0\n",
      "not null records 338666\n",
      "total count  338666\n",
      "+--------------------+-----+\n",
      "|        manufacturer|count|\n",
      "+--------------------+-----+\n",
      "|              jaguar| 1791|\n",
      "|               buick| 4667|\n",
      "|          mitsubishi| 2746|\n",
      "|             pontiac| 1988|\n",
      "| pricing and othe...|   40|\n",
      "|               lexus| 7005|\n",
      "|              toyota|28244|\n",
      "|            chrysler| 4939|\n",
      "|               tesla|  781|\n",
      "|             lincoln| 3670|\n",
      "|                audi| 6683|\n",
      "|              datsun|   61|\n",
      "|                 bmw|12577|\n",
      "|                jeep|15478|\n",
      "|               dodge|10805|\n",
      "|               rover| 1543|\n",
      "|             hyundai| 8229|\n",
      "|                ford|58558|\n",
      "|          alfa-romeo|  854|\n",
      "|            cadillac| 5748|\n",
      "|                 ram|14240|\n",
      "|               mazda| 4585|\n",
      "|             ferrari|   67|\n",
      "|                 kia| 6812|\n",
      "|       mercedes-benz| 9864|\n",
      "|             porsche| 1136|\n",
      "|        aston-martin|   22|\n",
      "|              saturn|  918|\n",
      "|           chevrolet|45189|\n",
      "|               honda|17657|\n",
      "|                mini| 2033|\n",
      "|                fiat|  685|\n",
      "|          volkswagen| 8164|\n",
      "|             mercury|  991|\n",
      "| overall conditio...|   28|\n",
      "|     harley-davidson|  106|\n",
      "|               acura| 5403|\n",
      "|                 gmc|13912|\n",
      "|            infiniti| 4265|\n",
      "|              nissan|15273|\n",
      "|              subaru| 8010|\n",
      "|               volvo| 2875|\n",
      "|          land rover|   15|\n",
      "|               E150 |    1|\n",
      "| recuperaciones a...|    1|\n",
      "|                2015|    1|\n",
      "|                2010|    1|\n",
      "|   Registration Fees|    1|\n",
      "|     affordable cars|    2|\n",
      "|   Nissan Silverado |    1|\n",
      "|              40 mpg|    1|\n",
      "+--------------------+-----+\n",
      "\n",
      "unique_records =  51\n"
     ]
    }
   ],
   "source": [
    "null_count = df4.filter(col(\"manufacturer\").isNull()).count()\n",
    "print(\"null records\" ,null_count)\n",
    "\n",
    "null_count = df4.filter(col(\"manufacturer\").isNotNull()).count()\n",
    "print(\"not null records\" ,null_count)\n",
    "\n",
    "total_count = df4.select('manufacturer').count()\n",
    "print(\"total count \",total_count)\n",
    "\n",
    "value_counts = df4.groupBy('manufacturer').count()\n",
    "value_counts.show(60)\n",
    "\n",
    "# Get unique records of a specific column\n",
    "unique_records = df4.select(\"manufacturer\").distinct().count()\n",
    "print(\"unique_records =\",unique_records)"
   ]
  },
  {
   "cell_type": "markdown",
   "id": "535516fc",
   "metadata": {},
   "source": [
    "#### categorical variable grouping"
   ]
  },
  {
   "cell_type": "markdown",
   "id": "abf8375f",
   "metadata": {},
   "source": [
    "This step can be called \"categorical variable grouping\". It involves grouping less frequent categories of a categorical variable into a single category to simplify the data and potentially improve model performance."
   ]
  },
  {
   "cell_type": "code",
   "execution_count": 43,
   "id": "a8fb8b54",
   "metadata": {},
   "outputs": [],
   "source": [
    "from pyspark.sql.functions import when\n",
    "\n",
    "# Define the list of top 20 manufacturers\n",
    "manufacturer_values = ['nissan','honda','chevrolet','mercedes-benz','ram','dodge','ford','jeep','toyota','bmw','subaru','volkswagen','kia','cadillac','hyundai','lexus','audi','chrysler','acura','buick']\n",
    "\n",
    "# Use when function to update the 'manufacturer' column\n",
    "df5 = df4.withColumn('manufacturer', \n",
    "                   when(df4['manufacturer'].isin(manufacturer_values), df4['manufacturer'])\n",
    "                   .otherwise('others'))"
   ]
  },
  {
   "cell_type": "code",
   "execution_count": 44,
   "id": "11a4b1fc",
   "metadata": {},
   "outputs": [
    {
     "name": "stdout",
     "output_type": "stream",
     "text": [
      "null records 0\n",
      "not null records 338666\n",
      "total count  338666\n",
      "+-------------+-----+\n",
      "| manufacturer|count|\n",
      "+-------------+-----+\n",
      "|        buick| 4667|\n",
      "|        lexus| 7005|\n",
      "|       toyota|28244|\n",
      "|     chrysler| 4939|\n",
      "|         audi| 6683|\n",
      "|       others|45121|\n",
      "|          bmw|12577|\n",
      "|         jeep|15478|\n",
      "|        dodge|10805|\n",
      "|      hyundai| 8229|\n",
      "|         ford|58558|\n",
      "|     cadillac| 5748|\n",
      "|          ram|14240|\n",
      "|          kia| 6812|\n",
      "|mercedes-benz| 9864|\n",
      "|    chevrolet|45189|\n",
      "|        honda|17657|\n",
      "|   volkswagen| 8164|\n",
      "|        acura| 5403|\n",
      "|       nissan|15273|\n",
      "|       subaru| 8010|\n",
      "+-------------+-----+\n",
      "\n",
      "unique_records =  21\n"
     ]
    }
   ],
   "source": [
    "null_count = df5.filter(col(\"manufacturer\").isNull()).count()\n",
    "print(\"null records\" ,null_count)\n",
    "\n",
    "null_count = df5.filter(col(\"manufacturer\").isNotNull()).count()\n",
    "print(\"not null records\" ,null_count)\n",
    "\n",
    "total_count = df5.select('manufacturer').count()\n",
    "print(\"total count \",total_count)\n",
    "\n",
    "value_counts = df5.groupBy('manufacturer').count()\n",
    "value_counts.show(60)\n",
    "\n",
    "# Get unique records of a specific column\n",
    "unique_records = df5.select(\"manufacturer\").distinct().count()\n",
    "print(\"unique_records =\",unique_records)"
   ]
  },
  {
   "cell_type": "markdown",
   "id": "4de0e361",
   "metadata": {},
   "source": [
    "#### region :"
   ]
  },
  {
   "cell_type": "code",
   "execution_count": 45,
   "id": "5172bc1f",
   "metadata": {},
   "outputs": [
    {
     "name": "stdout",
     "output_type": "stream",
     "text": [
      "null records 0\n",
      "not null records 338666\n",
      "total count  338666\n",
      "+--------------------+-----+\n",
      "|              region|count|\n",
      "+--------------------+-----+\n",
      "|   central louisiana|  116|\n",
      "|          western KY|  205|\n",
      "|           texarkana|  189|\n",
      "|       daytona beach| 1212|\n",
      "|   heartland florida|  153|\n",
      "|  southeast missouri|  176|\n",
      "|            sandusky|  230|\n",
      "|        gold country|  648|\n",
      "|           pensacola|  557|\n",
      "|        south jersey| 2407|\n",
      "|       new hampshire| 2202|\n",
      "|          san marcos|  169|\n",
      "|           fairbanks|  286|\n",
      "|     kansas city, MO| 2383|\n",
      "|          harrisburg|  768|\n",
      "|       state college|  191|\n",
      "|              yakima| 1266|\n",
      "|          moses lake|  649|\n",
      "|huntsville / decatur| 1051|\n",
      "|   northern michigan|  556|\n",
      "|       south florida| 2238|\n",
      "|saginaw-midland-b...|  821|\n",
      "|potsdam-canton-ma...|   86|\n",
      "|        northwest OK|  136|\n",
      "|             jackson|  954|\n",
      "| dallas / fort worth| 2436|\n",
      "|  mcallen / edinburg|  790|\n",
      "|         long island| 2544|\n",
      "|        northeast SD|   32|\n",
      "|          binghamton|  438|\n",
      "|            richmond| 1877|\n",
      "|             atlanta| 2444|\n",
      "|lewiston / clarkston|  644|\n",
      "|   cumberland valley|  166|\n",
      "|          wilmington|  744|\n",
      "|              toledo| 1100|\n",
      "|             reading|  376|\n",
      "|          susanville|  113|\n",
      "|        jacksonville| 2511|\n",
      "|              peoria|  401|\n",
      "|florence / muscle...|  134|\n",
      "|    central michigan|  433|\n",
      "|     eastern montana|   59|\n",
      "|         brownsville|  315|\n",
      "|             modesto| 2025|\n",
      "|             chicago| 2532|\n",
      "|    hickory / lenoir|  609|\n",
      "|killeen / temple ...|  535|\n",
      "|del rio / eagle pass|   92|\n",
      "|                waco|  561|\n",
      "|      seattle-tacoma| 2659|\n",
      "|              monroe|  505|\n",
      "|           brunswick|  171|\n",
      "|        harrisonburg|  333|\n",
      "|skagit / island /...|  550|\n",
      "|     imperial county|  255|\n",
      "|         terre haute|  187|\n",
      "|              albany| 1984|\n",
      "|     charlottesville|  490|\n",
      "|              denver| 2637|\n",
      "+--------------------+-----+\n",
      "only showing top 60 rows\n",
      "\n",
      "unique_records = 414\n"
     ]
    }
   ],
   "source": [
    "null_count = df5.filter(col(\"region\").isNull()).count()\n",
    "print(\"null records\" ,null_count)\n",
    "\n",
    "null_count = df5.filter(col(\"region\").isNotNull()).count()\n",
    "print(\"not null records\" ,null_count)\n",
    "\n",
    "total_count = df5.select('region').count()\n",
    "print(\"total count \",total_count)\n",
    "\n",
    "value_counts = df5.groupBy('region').count()\n",
    "value_counts.show(60)\n",
    "\n",
    "# Get unique records of a specific column\n",
    "unique_records = df5.select(\"region\").distinct().count()\n",
    "print(\"unique_records =\",unique_records)"
   ]
  },
  {
   "cell_type": "code",
   "execution_count": 46,
   "id": "5ee52b29",
   "metadata": {},
   "outputs": [],
   "source": [
    "# Count the occurrences of each region value\n",
    "manufacturer_counts = df5.groupBy('region').count()\n",
    "\n",
    "# Sort the counts in descending order and select the top 50 region\n",
    "top_manufacturers = manufacturer_counts.orderBy('count', ascending=False).limit(50)\n",
    "\n",
    "# Extract the top 50 region values\n",
    "manufacturer_values = [row['region'] for row in top_manufacturers.collect()]\n",
    "\n",
    "# Use when function to update the 'region' column\n",
    "df6 = df5.withColumn('region', \n",
    "                     when(df5['region'].isin(manufacturer_values), df5['region'])\n",
    "                     .otherwise('others'))\n"
   ]
  },
  {
   "cell_type": "code",
   "execution_count": 47,
   "id": "71fb1a26",
   "metadata": {},
   "outputs": [
    {
     "name": "stdout",
     "output_type": "stream",
     "text": [
      "null records 0\n",
      "not null records 338666\n",
      "total count  338666\n",
      "+--------------------+------+\n",
      "|              region| count|\n",
      "+--------------------+------+\n",
      "|        south jersey|  2407|\n",
      "|     kansas city, MO|  2383|\n",
      "| dallas / fort worth|  2436|\n",
      "|         long island|  2544|\n",
      "|             atlanta|  2444|\n",
      "|        jacksonville|  2511|\n",
      "|             chicago|  2532|\n",
      "|      seattle-tacoma|  2659|\n",
      "|              denver|  2637|\n",
      "|      tampa bay area|  2445|\n",
      "|            stockton|  2468|\n",
      "|           charlotte|  2367|\n",
      "|          cincinnati|  2301|\n",
      "|       orange county|  2465|\n",
      "|        st louis, MO|  2359|\n",
      "|    colorado springs|  2386|\n",
      "|               boise|  2303|\n",
      "|              boston|  2598|\n",
      "|          pittsburgh|  2458|\n",
      "|             orlando|  2426|\n",
      "|           cleveland|  2284|\n",
      "|           milwaukee|  2400|\n",
      "|        grand rapids|  2519|\n",
      "|              others|215680|\n",
      "|               tulsa|  2272|\n",
      "|      washington, DC|  2480|\n",
      "|       oklahoma city|  2330|\n",
      "|           las vegas|  2376|\n",
      "|              austin|  2369|\n",
      "|           san diego|  2464|\n",
      "|          sacramento|  2679|\n",
      "|         SF bay area|  2629|\n",
      "|          des moines|  2472|\n",
      "|           baltimore|  2427|\n",
      "|              tucson|  2428|\n",
      "|       new york city|  2490|\n",
      "|             houston|  2504|\n",
      "|            columbus|  2565|\n",
      "|       detroit metro|  2354|\n",
      "|          central NJ|  2517|\n",
      "|             phoenix|  2521|\n",
      "|raleigh / durham ...|  2298|\n",
      "|           rochester|  2407|\n",
      "|         albuquerque|  2486|\n",
      "|spokane / coeur d...|  2456|\n",
      "|        reno / tahoe|  2417|\n",
      "|            portland|  2722|\n",
      "|        north jersey|  2438|\n",
      "|minneapolis / st ...|  2740|\n",
      "|         los angeles|  2385|\n",
      "|ft myers / SW flo...|  2428|\n",
      "+--------------------+------+\n",
      "\n",
      "unique_records = 51\n"
     ]
    }
   ],
   "source": [
    "null_count = df6.filter(col(\"region\").isNull()).count()\n",
    "print(\"null records\" ,null_count)\n",
    "\n",
    "null_count = df6.filter(col(\"region\").isNotNull()).count()\n",
    "print(\"not null records\" ,null_count)\n",
    "\n",
    "total_count = df6.select('region').count()\n",
    "print(\"total count \",total_count)\n",
    "\n",
    "value_counts = df6.groupBy('region').count()\n",
    "value_counts.show(60)\n",
    "\n",
    "# Get unique records of a specific column\n",
    "unique_records = df6.select(\"region\").distinct().count()\n",
    "print(\"unique_records =\",unique_records)"
   ]
  },
  {
   "cell_type": "markdown",
   "id": "3de561a1",
   "metadata": {},
   "source": [
    "#### model :"
   ]
  },
  {
   "cell_type": "code",
   "execution_count": 38,
   "id": "fa9e6705",
   "metadata": {},
   "outputs": [
    {
     "name": "stdout",
     "output_type": "stream",
     "text": [
      "null records 0\n",
      "not null records 338666\n",
      "total count  338666\n",
      "+--------------------+-----+\n",
      "|               model|count|\n",
      "+--------------------+-----+\n",
      "|             4runner|  899|\n",
      "|       sonata hybrid|   73|\n",
      "|                hr-v|  141|\n",
      "|                 dts|  238|\n",
      "|            lacrosse|  349|\n",
      "|          crv lx awd|   22|\n",
      "|         verano base|    8|\n",
      "|transit connect c...|   26|\n",
      "|           sentra sv|  132|\n",
      "|  cherokee trailhawk|   25|\n",
      "|journey r/t flexible|    2|\n",
      "|           pruis two|    2|\n",
      "|                 hse|   54|\n",
      "|silverado 2500hd ...|    5|\n",
      "|                 xk8|   25|\n",
      "|          charger se|   50|\n",
      "|journey se sport ...|   34|\n",
      "|            aerostar|    5|\n",
      "|      avalon limited|   58|\n",
      "|           cts sedan|   42|\n",
      "|                 q40|    8|\n",
      "|      f-150 long bed|    1|\n",
      "|               azera|   49|\n",
      "|silverado durmax ...|   12|\n",
      "|        slt crew cab|    4|\n",
      "|explorer limited 4wd|   12|\n",
      "|xc60 t6 momentum ...|   11|\n",
      "|             borrego|   16|\n",
      "|   eclipse cross sel|   22|\n",
      "|          eclipse gs|    6|\n",
      "|    1500 bighorn 4x4|    2|\n",
      "|            cheyenne|   12|\n",
      "|        5500 chassis|    3|\n",
      "|     2002 rsx type s|    1|\n",
      "|       m4 coupe 2015|    2|\n",
      "|               monte|    1|\n",
      "|            xj sport|    1|\n",
      "|        mirage g4 le|    1|\n",
      "|   c-class c 63 s am|    1|\n",
      "|    3500 laramie 4x4|    8|\n",
      "|          crv ex awd|   41|\n",
      "|              verano|  135|\n",
      "|     lesabre limited|   28|\n",
      "|          rio 5-door|    5|\n",
      "|     is 250 sedan 4d|   45|\n",
      "|   tundra sr5 d/door|    1|\n",
      "|           civic cng|    1|\n",
      "|grand caravan sxt...|   34|\n",
      "|k900 luxury sedan 4d|   44|\n",
      "|xc60 t6 premier plus|    1|\n",
      "|highlander hybrid...|   30|\n",
      "|        1500 express|   48|\n",
      "|            amg g 63|    1|\n",
      "|                c350|    7|\n",
      "|     f150 lariat 4x4|   31|\n",
      "|4 series 440i cou...|   15|\n",
      "|               s60 r|    6|\n",
      "|sienna se minivan 4d|    7|\n",
      "|               f-750|   45|\n",
      "|mazda3 s sport 4d...|    1|\n",
      "+--------------------+-----+\n",
      "only showing top 60 rows\n",
      "\n",
      "unique_records =  21876\n"
     ]
    }
   ],
   "source": [
    "null_count = df6.filter(col(\"model\").isNull()).count()\n",
    "print(\"null records\" ,null_count)\n",
    "\n",
    "null_count = df6.filter(col(\"model\").isNotNull()).count()\n",
    "print(\"not null records\" ,null_count)\n",
    "\n",
    "total_count = df6.select('model').count()\n",
    "print(\"total count \",total_count)\n",
    "\n",
    "value_counts = df6.groupBy('model').count()\n",
    "value_counts.show(60)\n",
    "\n",
    "# Get unique records of a specific column\n",
    "unique_records = df6.select(\"model\").distinct().count()\n",
    "print(\"unique_records = \",unique_records)"
   ]
  },
  {
   "cell_type": "code",
   "execution_count": 32,
   "id": "b5ff7d48",
   "metadata": {},
   "outputs": [],
   "source": [
    "# Count the occurrences of each model value\n",
    "manufacturer_counts = df6.groupBy('model').count()\n",
    "\n",
    "# Sort the counts in descending order and select the top 50 model\n",
    "top_manufacturers = manufacturer_counts.orderBy('count', ascending=False).limit(50)\n",
    "\n",
    "# Extract the top 50 model values\n",
    "manufacturer_values = [row['model'] for row in top_manufacturers.collect()]\n",
    "\n",
    "# Use when function to update the 'model' column\n",
    "df7 = df6.withColumn('model',\n",
    "                     when(df6['model'].isin(manufacturer_values), df6['model'])\n",
    "                     .otherwise('others'))\n"
   ]
  },
  {
   "cell_type": "code",
   "execution_count": 37,
   "id": "6da537d1",
   "metadata": {},
   "outputs": [
    {
     "name": "stdout",
     "output_type": "stream",
     "text": [
      "null records 0\n",
      "not null records 338666\n",
      "total count  338666\n",
      "+------------------+------+\n",
      "|             model| count|\n",
      "+------------------+------+\n",
      "|              1500|  3322|\n",
      "|            sentra|  1041|\n",
      "|  silverado 2500hd|  1282|\n",
      "|            altima|  2124|\n",
      "|            sierra|  1035|\n",
      "|     grand caravan|  1327|\n",
      "|            camaro|  1005|\n",
      "|          forester|  1111|\n",
      "|            fusion|  1540|\n",
      "|             prius|  1207|\n",
      "|         silverado|  2464|\n",
      "|             jetta|  1184|\n",
      "|            tacoma|  1996|\n",
      "|            tundra|  1157|\n",
      "|          suburban|   915|\n",
      "|            sonata|  1316|\n",
      "|             tahoe|  1390|\n",
      "|              2500|  2233|\n",
      "|            others|255292|\n",
      "|           corolla|  1740|\n",
      "|             focus|  1462|\n",
      "|       sierra 1500|  1308|\n",
      "|              cr-v|  1585|\n",
      "|          wrangler|  2111|\n",
      "|            sienna|   900|\n",
      "|            escape|  2223|\n",
      "|             rogue|  1021|\n",
      "|              3500|  1258|\n",
      "|             cruze|  1235|\n",
      "|              f150|   927|\n",
      "|             camry|  2496|\n",
      "|              edge|  1177|\n",
      "|wrangler unlimited|  1020|\n",
      "|    grand cherokee|  2012|\n",
      "|           charger|  1227|\n",
      "|          explorer|  2056|\n",
      "|           odyssey|  1230|\n",
      "|             civic|  2337|\n",
      "|             f-150|  6387|\n",
      "|             pilot|   908|\n",
      "|            accord|  2455|\n",
      "|            malibu|  1360|\n",
      "|           outback|  1267|\n",
      "|          corvette|  1448|\n",
      "|             f-250|  1208|\n",
      "|            impala|  1329|\n",
      "|           equinox|  1603|\n",
      "|           mustang|  1840|\n",
      "|    silverado 1500|  4116|\n",
      "|              rav4|  1349|\n",
      "|           elantra|  1130|\n",
      "+------------------+------+\n",
      "\n",
      "unique_records =  51\n"
     ]
    }
   ],
   "source": [
    "null_count = df7.filter(col(\"model\").isNull()).count()\n",
    "print(\"null records\" ,null_count)\n",
    "\n",
    "null_count = df7.filter(col(\"model\").isNotNull()).count()\n",
    "print(\"not null records\" ,null_count)\n",
    "\n",
    "total_count = df7.select('model').count()\n",
    "print(\"total count \",total_count)\n",
    "\n",
    "value_counts = df7.groupBy('model').count()\n",
    "value_counts.show(51)\n",
    "\n",
    "# Get unique records of a specific column\n",
    "unique_records = df7.select(\"model\").distinct().count()\n",
    "print(\"unique_records = \",unique_records)"
   ]
  },
  {
   "cell_type": "markdown",
   "id": "c8b209c7",
   "metadata": {},
   "source": [
    "####  unique records :"
   ]
  },
  {
   "cell_type": "code",
   "execution_count": 35,
   "id": "8912ee96",
   "metadata": {},
   "outputs": [
    {
     "name": "stdout",
     "output_type": "stream",
     "text": [
      "region 51\n",
      "price 14689\n",
      "year 117\n",
      "manufacturer 21\n",
      "model 51\n",
      "condition 56\n",
      "cylinders 18\n",
      "fuel 16\n",
      "odometer 99837\n",
      "title_status 16\n",
      "transmission 79\n",
      "drive 12\n",
      "type 22\n",
      "paint_color 49\n"
     ]
    }
   ],
   "source": [
    "# Iterate over each column in the DataFrame\n",
    "for col_name in df7.columns:\n",
    "    # Count the distinct values in the column\n",
    "    distinct_count = df7.select(countDistinct(col_name)).collect()[0][0]\n",
    "    print(col_name, distinct_count)"
   ]
  },
  {
   "cell_type": "markdown",
   "id": "7f1cc569",
   "metadata": {},
   "source": [
    "#### transmission :"
   ]
  },
  {
   "cell_type": "code",
   "execution_count": 48,
   "id": "992c4ef6",
   "metadata": {},
   "outputs": [
    {
     "name": "stdout",
     "output_type": "stream",
     "text": [
      "null records 0\n",
      "not null records 338666\n",
      "total count  338666\n",
      "+--------------------+------+\n",
      "|        transmission| count|\n",
      "+--------------------+------+\n",
      "| and smog fees   ...|     1|\n",
      "|           automatic|261721|\n",
      "|               other| 58105|\n",
      "|2021-05-01T11:30:...|     1|\n",
      "| and smog fees   ...|     1|\n",
      "| and smog fees   ...|     1|\n",
      "|              manual| 18763|\n",
      "| and smog fees   ...|     1|\n",
      "| and smog fees   ...|     1|\n",
      "|2021-05-02T13:04:...|     1|\n",
      "|2021-05-02T14:34:...|     1|\n",
      "| and smog fees   ...|     1|\n",
      "|2021-04-27T14:34:...|     1|\n",
      "|2021-05-03T15:20:...|     1|\n",
      "|2021-05-01T13:05:...|     1|\n",
      "| and smog fees   ...|     1|\n",
      "|2021-04-27T15:19:...|     1|\n",
      "| and smog fees   ...|     1|\n",
      "|2021-05-02T15:19:...|     1|\n",
      "| and smog fees   ...|     1|\n",
      "|2021-05-01T15:19:...|     1|\n",
      "|2021-04-27T09:58:...|     1|\n",
      "| Si se encuentra ...|     1|\n",
      "|2021-05-02T12:19:...|     1|\n",
      "|2021-05-03T12:20:...|     1|\n",
      "|2021-05-01T13:50:...|     1|\n",
      "| and smog fees   ...|     1|\n",
      "|           Extended |     1|\n",
      "|2021-05-03T13:50:...|     1|\n",
      "|                 535|     1|\n",
      "|2021-05-01T09:50:...|     1|\n",
      "|                 330|     1|\n",
      "|2021-04-27T13:04:...|     1|\n",
      "|2021-05-04T14:01:...|     1|\n",
      "| and smog fees   ...|     1|\n",
      "|2021-05-01T14:35:...|     1|\n",
      "| and smog fees   ...|     1|\n",
      "|2021-04-27T11:34:...|     1|\n",
      "| and smog fees   ...|     1|\n",
      "| or Delivery Fees...|     1|\n",
      "|2021-05-03T11:30:...|     1|\n",
      "| and smog fees   ...|     1|\n",
      "|2021-05-03T10:40:...|     1|\n",
      "|2021-05-02T09:49:...|     1|\n",
      "|2021-05-01T10:39:...|     1|\n",
      "|2021-05-04T14:41:...|     1|\n",
      "|2021-05-02T10:39:...|     1|\n",
      "| and smog fees   ...|     1|\n",
      "|2021-05-03T13:05:...|     1|\n",
      "|    in-expensive car|     2|\n",
      "|2021-05-01T12:20:...|     1|\n",
      "+--------------------+------+\n",
      "only showing top 51 rows\n",
      "\n",
      "unique_records =  79\n"
     ]
    }
   ],
   "source": [
    "null_count = df7.filter(col(\"transmission\").isNull()).count()\n",
    "print(\"null records\" ,null_count)\n",
    "\n",
    "null_count = df7.filter(col(\"transmission\").isNotNull()).count()\n",
    "print(\"not null records\" ,null_count)\n",
    "\n",
    "total_count = df7.select('transmission').count()\n",
    "print(\"total count \",total_count)\n",
    "\n",
    "value_counts = df7.groupBy('transmission').count()\n",
    "value_counts.show(51)\n",
    "\n",
    "# Get unique records of a specific column\n",
    "unique_records = df7.select(\"transmission\").distinct().count()\n",
    "print(\"unique_records = \",unique_records)"
   ]
  },
  {
   "cell_type": "markdown",
   "id": "c0d16a91",
   "metadata": {},
   "source": [
    "##### Filtering  transmission column value as per requirement:"
   ]
  },
  {
   "cell_type": "code",
   "execution_count": 49,
   "id": "69fa2c5e",
   "metadata": {},
   "outputs": [],
   "source": [
    "names_to_match = ['automatic','manual','other','unknown']\n",
    " \n",
    "df8 = df7.filter((col(\"transmission\").isin(names_to_match)) )"
   ]
  },
  {
   "cell_type": "code",
   "execution_count": 51,
   "id": "3ee00e43",
   "metadata": {},
   "outputs": [
    {
     "name": "stdout",
     "output_type": "stream",
     "text": [
      "null records 0\n",
      "not null records 338589\n",
      "total count  338589\n",
      "+------------+------+\n",
      "|transmission| count|\n",
      "+------------+------+\n",
      "|   automatic|261721|\n",
      "|       other| 58105|\n",
      "|      manual| 18763|\n",
      "+------------+------+\n",
      "\n",
      "unique_records = 3\n"
     ]
    }
   ],
   "source": [
    "null_count = df8.filter(col(\"transmission\").isNull()).count()\n",
    "print(\"null records\" ,null_count)\n",
    "\n",
    "null_count = df8.filter(col(\"transmission\").isNotNull()).count()\n",
    "print(\"not null records\" ,null_count)\n",
    "\n",
    "total_count = df8.select('transmission').count()\n",
    "print(\"total count \",total_count)\n",
    "\n",
    "value_counts = df8.groupBy('transmission').count()\n",
    "value_counts.show(51)\n",
    "\n",
    "# Get unique records of a specific column\n",
    "unique_records = df8.select(\"transmission\").distinct().count()\n",
    "print(\"unique_records =\",unique_records)"
   ]
  },
  {
   "cell_type": "markdown",
   "id": "2b2e0478",
   "metadata": {},
   "source": [
    "#### drive:"
   ]
  },
  {
   "cell_type": "code",
   "execution_count": 52,
   "id": "c5b246b1",
   "metadata": {},
   "outputs": [
    {
     "name": "stdout",
     "output_type": "stream",
     "text": [
      "null records 0\n",
      "not null records 338589\n",
      "total count  338589\n",
      "+-------+------+\n",
      "|  drive| count|\n",
      "+-------+------+\n",
      "|unknown| 99625|\n",
      "|    fwd| 85328|\n",
      "|    rwd| 47623|\n",
      "|    4wd|106013|\n",
      "+-------+------+\n",
      "\n",
      "unique_records = 4\n"
     ]
    }
   ],
   "source": [
    "null_count = df8.filter(col(\"drive\").isNull()).count()\n",
    "print(\"null records\" ,null_count)\n",
    "\n",
    "null_count = df8.filter(col(\"drive\").isNotNull()).count()\n",
    "print(\"not null records\" ,null_count)\n",
    "\n",
    "total_count = df8.select('drive').count()\n",
    "print(\"total count \",total_count)\n",
    "\n",
    "value_counts = df8.groupBy('drive').count()\n",
    "value_counts.show(51)\n",
    "\n",
    "# Get unique records of a specific column\n",
    "unique_records = df8.select(\"drive\").distinct().count()\n",
    "print(\"unique_records =\",unique_records)"
   ]
  },
  {
   "cell_type": "code",
   "execution_count": 53,
   "id": "6424d597",
   "metadata": {},
   "outputs": [
    {
     "name": "stdout",
     "output_type": "stream",
     "text": [
      "region 51\n",
      "price 14679\n",
      "year 107\n",
      "manufacturer 21\n",
      "model 51\n",
      "condition 7\n",
      "cylinders 9\n",
      "fuel 5\n",
      "odometer 99827\n",
      "title_status 6\n",
      "transmission 3\n",
      "drive 4\n",
      "type 14\n",
      "paint_color 13\n"
     ]
    }
   ],
   "source": [
    "for col_name in df8.columns:\n",
    "    distinct_count = df8.select(countDistinct(col_name)).collect()[0][0]\n",
    "    print(col_name, distinct_count)"
   ]
  },
  {
   "cell_type": "markdown",
   "id": "b036257f",
   "metadata": {},
   "source": [
    "#### year:"
   ]
  },
  {
   "cell_type": "code",
   "execution_count": 54,
   "id": "3318ef93",
   "metadata": {},
   "outputs": [
    {
     "name": "stdout",
     "output_type": "stream",
     "text": [
      "null records 0\n",
      "not null records 338589\n",
      "total count  338589\n",
      "+----+-----+\n",
      "|year|count|\n",
      "+----+-----+\n",
      "|1953|   55|\n",
      "|1957|  117|\n",
      "|1987|  393|\n",
      "|1956|   98|\n",
      "|2016|23369|\n",
      "|1936|   21|\n",
      "|2020|16673|\n",
      "|2012|18409|\n",
      "|1958|   49|\n",
      "|1943|    1|\n",
      "|1915|    1|\n",
      "|1972|  297|\n",
      "|1931|   26|\n",
      "|1988|  402|\n",
      "|1926|   10|\n",
      "|1938|   14|\n",
      "|2019|21483|\n",
      "|2017|29395|\n",
      "|1932|   46|\n",
      "|1977|  198|\n",
      "|2014|23683|\n",
      "|1971|  222|\n",
      "|1984|  303|\n",
      "|2013|23833|\n",
      "|1982|  169|\n",
      "|1941|   36|\n",
      "|2005| 8362|\n",
      "|2000| 2885|\n",
      "|1965|  273|\n",
      "|1962|   98|\n",
      "|1954|   68|\n",
      "|1930|   53|\n",
      "|1981|  163|\n",
      "|1940|   48|\n",
      "|1978|  260|\n",
      "|1974|  183|\n",
      "|2002| 4580|\n",
      "|1959|   55|\n",
      "|2018|30912|\n",
      "|2009| 9530|\n",
      "|1995| 1001|\n",
      "|1964|  196|\n",
      "|1905|    1|\n",
      "|1946|   33|\n",
      "|2006| 9989|\n",
      "|1927|   26|\n",
      "|1976|  151|\n",
      "|1942|    6|\n",
      "|1935|   14|\n",
      "|1947|   43|\n",
      "|1967|  232|\n",
      "+----+-----+\n",
      "only showing top 51 rows\n",
      "\n",
      "unique_records = 107\n"
     ]
    }
   ],
   "source": [
    "null_count = df8.filter(col(\"year\").isNull()).count()\n",
    "print(\"null records\" ,null_count)\n",
    "\n",
    "null_count = df8.filter(col(\"year\").isNotNull()).count()\n",
    "print(\"not null records\" ,null_count)\n",
    "\n",
    "total_count = df8.select('year').count()\n",
    "print(\"total count \",total_count)\n",
    "\n",
    "value_counts = df8.groupBy('year').count()\n",
    "value_counts.show(51)\n",
    "\n",
    "# Get unique records of a specific column\n",
    "unique_records = df8.select(\"year\").distinct().count()\n",
    "print(\"unique_records =\",unique_records)"
   ]
  },
  {
   "cell_type": "code",
   "execution_count": 41,
   "id": "a797da3a",
   "metadata": {},
   "outputs": [
    {
     "name": "stdout",
     "output_type": "stream",
     "text": [
      "root\n",
      " |-- region: string (nullable = false)\n",
      " |-- price: string (nullable = false)\n",
      " |-- year: string (nullable = false)\n",
      " |-- manufacturer: string (nullable = false)\n",
      " |-- model: string (nullable = false)\n",
      " |-- condition: string (nullable = false)\n",
      " |-- cylinders: string (nullable = false)\n",
      " |-- fuel: string (nullable = false)\n",
      " |-- odometer: string (nullable = false)\n",
      " |-- title_status: string (nullable = false)\n",
      " |-- transmission: string (nullable = false)\n",
      " |-- drive: string (nullable = false)\n",
      " |-- type: string (nullable = false)\n",
      " |-- paint_color: string (nullable = false)\n",
      "\n"
     ]
    }
   ],
   "source": [
    "df8.printSchema()"
   ]
  },
  {
   "cell_type": "markdown",
   "id": "07ea142d",
   "metadata": {},
   "source": [
    "#### converting year, odometer, price column type to integer type:"
   ]
  },
  {
   "cell_type": "code",
   "execution_count": 59,
   "id": "edfe1806",
   "metadata": {},
   "outputs": [
    {
     "name": "stdout",
     "output_type": "stream",
     "text": [
      "root\n",
      " |-- region: string (nullable = false)\n",
      " |-- price: integer (nullable = true)\n",
      " |-- year: integer (nullable = true)\n",
      " |-- manufacturer: string (nullable = false)\n",
      " |-- model: string (nullable = false)\n",
      " |-- condition: string (nullable = false)\n",
      " |-- cylinders: string (nullable = false)\n",
      " |-- fuel: string (nullable = false)\n",
      " |-- odometer: integer (nullable = true)\n",
      " |-- title_status: string (nullable = false)\n",
      " |-- transmission: string (nullable = false)\n",
      " |-- drive: string (nullable = false)\n",
      " |-- type: string (nullable = false)\n",
      " |-- paint_color: string (nullable = false)\n",
      "\n"
     ]
    }
   ],
   "source": [
    "df9 = df8.withColumn(\"year\", col('year').cast(\"int\"))\n",
    "df10 = df9.withColumn(\"odometer\", col('odometer').cast(\"int\"))\n",
    "df11 = df10.withColumn(\"price\", col('price').cast(\"int\"))\n",
    "\n",
    "df11.printSchema()"
   ]
  },
  {
   "cell_type": "markdown",
   "id": "8f536350",
   "metadata": {},
   "source": [
    "#### odometer :"
   ]
  },
  {
   "cell_type": "code",
   "execution_count": 60,
   "id": "e88ef288",
   "metadata": {},
   "outputs": [
    {
     "name": "stdout",
     "output_type": "stream",
     "text": [
      "null records 0\n",
      "not null records 338589\n",
      "total count  338589\n",
      "+--------+-----+\n",
      "|odometer|count|\n",
      "+--------+-----+\n",
      "|   31367|    2|\n",
      "|   41409|    2|\n",
      "|  150300|   16|\n",
      "|  113000|  397|\n",
      "|   82730|    2|\n",
      "|   56987|   24|\n",
      "|   18800|    4|\n",
      "|   32396|   11|\n",
      "|   38311|   17|\n",
      "|   29993|   33|\n",
      "|  271000|   27|\n",
      "|   21700|    5|\n",
      "|  135000|  523|\n",
      "|   42468|    5|\n",
      "|  188122|    1|\n",
      "|  144475|    1|\n",
      "|   92317|    8|\n",
      "|   18866|    3|\n",
      "|    3749|   26|\n",
      "|  149177|    1|\n",
      "|   37263|    1|\n",
      "|   76885|    2|\n",
      "|   90019|    4|\n",
      "|   30970|   39|\n",
      "|   31236|    6|\n",
      "|   74058|    2|\n",
      "|  130062|    1|\n",
      "|   81900|   29|\n",
      "|   31261|    7|\n",
      "|   34239|    4|\n",
      "|   68202|    3|\n",
      "|   44906|    4|\n",
      "|  109909|    2|\n",
      "|   30903|    4|\n",
      "|  156645|    1|\n",
      "|   95940|    3|\n",
      "|   14450|    1|\n",
      "|  181700|    7|\n",
      "|  115602|    3|\n",
      "|   87338|    3|\n",
      "|   33602|    8|\n",
      "|  117500|   19|\n",
      "|   75509|    4|\n",
      "|   82794|   10|\n",
      "|   43688|    2|\n",
      "|   50348|    1|\n",
      "|   56741|    1|\n",
      "|   80451|    2|\n",
      "|   33412|    4|\n",
      "|  137055|   20|\n",
      "|  165829|    1|\n",
      "+--------+-----+\n",
      "only showing top 51 rows\n",
      "\n",
      "unique_records = 99827\n"
     ]
    }
   ],
   "source": [
    "null_count = df11.filter(col(\"odometer\").isNull()).count()\n",
    "print(\"null records\" ,null_count)\n",
    "\n",
    "null_count = df11.filter(col(\"odometer\").isNotNull()).count()\n",
    "print(\"not null records\" ,null_count)\n",
    "\n",
    "total_count = df11.select('odometer').count()\n",
    "print(\"total count \",total_count)\n",
    "\n",
    "value_counts = df11.groupBy('odometer').count()\n",
    "value_counts.show(51)\n",
    "\n",
    "# Get unique records of a specific column\n",
    "unique_records = df11.select(\"odometer\").distinct().count()\n",
    "print(\"unique_records =\",unique_records)"
   ]
  },
  {
   "cell_type": "markdown",
   "id": "1f4a640d",
   "metadata": {},
   "source": [
    "#### PRICE :"
   ]
  },
  {
   "cell_type": "code",
   "execution_count": 61,
   "id": "fef10f33",
   "metadata": {},
   "outputs": [
    {
     "name": "stdout",
     "output_type": "stream",
     "text": [
      "null records 4\n",
      "not null records 338585\n",
      "total count  338589\n",
      "+------+-----+\n",
      "| price|count|\n",
      "+------+-----+\n",
      "|  4900|  984|\n",
      "| 59990|   92|\n",
      "|  9900|  725|\n",
      "| 18800|   81|\n",
      "| 29894|    3|\n",
      "|  5300|  256|\n",
      "| 12799|    9|\n",
      "| 32445|    4|\n",
      "| 71995|   14|\n",
      "|  3175|    2|\n",
      "| 18498|   30|\n",
      "|  7982|    3|\n",
      "|  7993|    2|\n",
      "|  7880|   13|\n",
      "| 64590|   11|\n",
      "| 14450|   34|\n",
      "| 19984|   11|\n",
      "| 41988|   28|\n",
      "| 30970|    1|\n",
      "| 13623|    2|\n",
      "| 13285|    3|\n",
      "|   148|    6|\n",
      "| 20497|   12|\n",
      "| 33375|    1|\n",
      "| 20924|    2|\n",
      "| 35820|    1|\n",
      "|  3997|   18|\n",
      "| 22990| 1125|\n",
      "| 24985|   47|\n",
      "| 11500|  812|\n",
      "|213000|    2|\n",
      "| 16500|  674|\n",
      "| 40900|   32|\n",
      "| 29950|  163|\n",
      "|  2999|  353|\n",
      "| 18595|   11|\n",
      "| 85000|   11|\n",
      "| 32891|    4|\n",
      "| 30988|   55|\n",
      "| 19200|   23|\n",
      "| 17688|    5|\n",
      "| 19499|   72|\n",
      "| 26787|    4|\n",
      "| 44321|    4|\n",
      "| 27888|   12|\n",
      "|   243|    7|\n",
      "| 69595|    3|\n",
      "| 35800|   29|\n",
      "| 56687|    9|\n",
      "|  1990|   11|\n",
      "| 18218|    2|\n",
      "+------+-----+\n",
      "only showing top 51 rows\n",
      "\n",
      "unique_records = 14678\n"
     ]
    }
   ],
   "source": [
    "null_count = df11.filter(col(\"price\").isNull()).count()\n",
    "print(\"null records\" ,null_count)\n",
    "\n",
    "null_count = df11.filter(col(\"price\").isNotNull()).count()\n",
    "print(\"not null records\" ,null_count)\n",
    "\n",
    "total_count = df11.select('price').count()\n",
    "print(\"total count \",total_count)\n",
    "\n",
    "value_counts = df11.groupBy('price').count()\n",
    "value_counts.show(51)\n",
    "\n",
    "# Get unique records of a specific column\n",
    "unique_records = df11.select(\"price\").distinct().count()\n",
    "print(\"unique_records =\",unique_records)"
   ]
  },
  {
   "cell_type": "code",
   "execution_count": 62,
   "id": "01b98dd2",
   "metadata": {},
   "outputs": [
    {
     "name": "stdout",
     "output_type": "stream",
     "text": [
      "+------+-----+----+------------+------+---------+-----------+------+--------+------------+------------+-------+-------+-----------+\n",
      "|region|price|year|manufacturer| model|condition|  cylinders|  fuel|odometer|title_status|transmission|  drive|   type|paint_color|\n",
      "+------+-----+----+------------+------+---------+-----------+------+--------+------------+------------+-------+-------+-----------+\n",
      "|others|39590|2020|        ford|others|     good|8 cylinders|   gas|    1419|       clean|       other|    rwd|  coupe|      white|\n",
      "|others| 3850|2010|  volkswagen| jetta|  unknown|    unknown|   gas|  178000|       clean|   automatic|unknown|unknown|    unknown|\n",
      "|others|45950|2014|      others|others|excellent|8 cylinders|diesel|  154289|       clean|   automatic|    4wd|  truck|      black|\n",
      "|others| 5000|2006|        jeep|others|  unknown|    unknown|diesel|  194000|       clean|   automatic|unknown|    SUV|    unknown|\n",
      "|others|    0|2016|         ram|others| like new|6 cylinders|diesel|  128377|       clean|   automatic|    4wd|  truck|      black|\n",
      "|others| 3800|2006|         kia|others|  unknown|6 cylinders|   gas|  112412|       clean|   automatic|    fwd|  sedan|       grey|\n",
      "|others|32990|2019|       dodge|others|     good|8 cylinders|   gas|    2676|       clean|       other|    rwd|  coupe|      white|\n",
      "|others|27590|2019|   chevrolet|others|     good|    unknown|   gas|   18056|       clean|       other|    rwd|  coupe|        red|\n",
      "|others|18998|2015|       acura|others|  unknown|    unknown|   gas|   56476|       clean|   automatic|    fwd|  sedan|      white|\n",
      "|others|17000|1967|   chevrolet|others|  unknown|    unknown|   gas|   62111|       clean|   automatic|unknown|unknown|    unknown|\n",
      "+------+-----+----+------------+------+---------+-----------+------+--------+------------+------------+-------+-------+-----------+\n",
      "only showing top 10 rows\n",
      "\n"
     ]
    }
   ],
   "source": [
    "df11.show(10)"
   ]
  },
  {
   "cell_type": "markdown",
   "id": "4bd40f5a",
   "metadata": {},
   "source": [
    "#### checking distinct records of each column:"
   ]
  },
  {
   "cell_type": "code",
   "execution_count": 63,
   "id": "5df68677",
   "metadata": {},
   "outputs": [
    {
     "name": "stdout",
     "output_type": "stream",
     "text": [
      "region 51\n",
      "price 14677\n",
      "year 107\n",
      "manufacturer 21\n",
      "model 51\n",
      "condition 7\n",
      "cylinders 9\n",
      "fuel 5\n",
      "odometer 99827\n",
      "title_status 6\n",
      "transmission 3\n",
      "drive 4\n",
      "type 14\n",
      "paint_color 13\n"
     ]
    }
   ],
   "source": [
    "for col_name in df11.columns:   \n",
    "    distinct_count = df11.select(countDistinct(col_name)).collect()[0][0]\n",
    "    print(col_name, distinct_count)"
   ]
  },
  {
   "cell_type": "markdown",
   "id": "deb12007",
   "metadata": {},
   "source": [
    "### Handling outliers :"
   ]
  },
  {
   "cell_type": "markdown",
   "id": "e41f7fc9",
   "metadata": {},
   "source": [
    "Outliers reduces the accuracy of a model. We have to detect outliers and remove them."
   ]
  },
  {
   "cell_type": "markdown",
   "id": "d39635cb",
   "metadata": {},
   "source": [
    "### price column :"
   ]
  },
  {
   "cell_type": "code",
   "execution_count": 65,
   "id": "e2ce7fea",
   "metadata": {},
   "outputs": [
    {
     "data": {
      "image/png": "[encoded data removed]",
      "text/plain": [
       "<Figure size 432x288 with 1 Axes>"
      ]
     },
     "metadata": {
      "needs_background": "light"
     },
     "output_type": "display_data"
    }
   ],
   "source": [
    "# Plot histogram :\n",
    "\n",
    "pandas_df = df11.select(\"price\").toPandas()\n",
    "\n",
    "pandas_df.hist(bins=20)\n",
    "\n",
    "plt.title(\"Histogram of Your Numerical Column\")\n",
    "plt.xlabel(\"Value\")\n",
    "plt.ylabel(\"Frequency\")\n",
    "plt.show()"
   ]
  },
  {
   "cell_type": "code",
   "execution_count": 66,
   "id": "b3515f15",
   "metadata": {},
   "outputs": [
    {
     "data": {
      "image/png": "[encoded data removed]",
      "text/plain": [
       "<Figure size 432x288 with 1 Axes>"
      ]
     },
     "metadata": {
      "needs_background": "light"
     },
     "output_type": "display_data"
    }
   ],
   "source": [
    "# convert to pandas dataframe:\n",
    "pandas_df = df11.select(\"price\").toPandas()\n",
    "\n",
    "# Create a boxplot using Pandas\n",
    "pandas_df.boxplot(column=\"price\")\n",
    "\n",
    "plt.show()"
   ]
  },
  {
   "cell_type": "code",
   "execution_count": 78,
   "id": "e2974c42",
   "metadata": {},
   "outputs": [
    {
     "data": {
      "text/plain": [
       "338589"
      ]
     },
     "execution_count": 78,
     "metadata": {},
     "output_type": "execute_result"
    }
   ],
   "source": [
    "# checking count before removing outliers:\n",
    "df11.count()"
   ]
  },
  {
   "cell_type": "code",
   "execution_count": 67,
   "id": "6d2500b7",
   "metadata": {},
   "outputs": [],
   "source": [
    "# Calculate quartiles\n",
    "\n",
    "price_percentiles = df11.approxQuantile(\"price\", [0.15, 0.75], 0.01)\n",
    "price_percentile15 = price_percentiles[0]\n",
    "price_percentile75 = price_percentiles[1]\n",
    "\n",
    "# Calculate IQR and upper/lower limits\n",
    "\n",
    "price_iqr = price_percentile75 - price_percentile15\n",
    "price_upper_limit = price_percentile75 + 1.5 * price_iqr\n",
    "price_lower_limit = price_percentile15\n",
    "\n",
    "# Filter DataFrame based on limits\n",
    "df12 = df11.filter((col(\"price\") < price_upper_limit) & (col(\"price\") > price_lower_limit))\n"
   ]
  },
  {
   "cell_type": "code",
   "execution_count": 68,
   "id": "e9ea1c31",
   "metadata": {},
   "outputs": [
    {
     "data": {
      "image/png": "[encoded data removed]",
      "text/plain": [
       "<Figure size 432x288 with 1 Axes>"
      ]
     },
     "metadata": {
      "needs_background": "light"
     },
     "output_type": "display_data"
    }
   ],
   "source": [
    "# convert to pandas dataframe:\n",
    "pandas_df = df12.select(\"price\").toPandas()\n",
    "\n",
    "# Create a boxplot using Pandas\n",
    "pandas_df.boxplot(column=\"price\")\n",
    "\n",
    "plt.show()"
   ]
  },
  {
   "cell_type": "code",
   "execution_count": 69,
   "id": "ea7d1cba",
   "metadata": {},
   "outputs": [
    {
     "data": {
      "image/png": "[encoded data removed]",
      "text/plain": [
       "<Figure size 432x288 with 1 Axes>"
      ]
     },
     "metadata": {
      "needs_background": "light"
     },
     "output_type": "display_data"
    }
   ],
   "source": [
    "# histogram after removal of outliers:\n",
    "pandas_df = df12.select(\"price\").toPandas()\n",
    "\n",
    "pandas_df.hist(bins=20)\n",
    "plt.title(\"Histogram of Your Numerical Column\")\n",
    "plt.xlabel(\"Value\")\n",
    "plt.ylabel(\"Frequency\")\n",
    "plt.show()"
   ]
  },
  {
   "cell_type": "code",
   "execution_count": 71,
   "id": "a27110ca",
   "metadata": {},
   "outputs": [
    {
     "data": {
      "text/plain": [
       "283296"
      ]
     },
     "execution_count": 71,
     "metadata": {},
     "output_type": "execute_result"
    }
   ],
   "source": [
    "# checking count after outliers:\n",
    "df12.count()"
   ]
  },
  {
   "cell_type": "markdown",
   "id": "52b6859d",
   "metadata": {},
   "source": [
    "### odometer :"
   ]
  },
  {
   "cell_type": "code",
   "execution_count": 72,
   "id": "e7329818",
   "metadata": {},
   "outputs": [
    {
     "data": {
      "image/png": "[encoded data removed]",
      "text/plain": [
       "<Figure size 432x288 with 1 Axes>"
      ]
     },
     "metadata": {
      "needs_background": "light"
     },
     "output_type": "display_data"
    }
   ],
   "source": [
    "# Plot histogram :\n",
    "pandas_df = df12.select(\"odometer\").toPandas()\n",
    "\n",
    "pandas_df.hist(bins=30)\n",
    "plt.title(\"Histogram of Your Numerical Column\")\n",
    "plt.xlabel(\"Value\")\n",
    "plt.ylabel(\"Frequency\")\n",
    "plt.show()"
   ]
  },
  {
   "cell_type": "code",
   "execution_count": 73,
   "id": "ad40b77e",
   "metadata": {},
   "outputs": [
    {
     "data": {
      "image/png": "[encoded data removed]",
      "text/plain": [
       "<Figure size 432x288 with 1 Axes>"
      ]
     },
     "metadata": {
      "needs_background": "light"
     },
     "output_type": "display_data"
    }
   ],
   "source": [
    "# convert to pandas dataframe:\n",
    "pandas_df = df12.select('odometer').toPandas()\n",
    "\n",
    "# Create a boxplot using Pandas\n",
    "pandas_df.boxplot(column='odometer')\n",
    "\n",
    "# Display the plot\n",
    "plt.show()"
   ]
  },
  {
   "cell_type": "code",
   "execution_count": 79,
   "id": "cec322a8",
   "metadata": {},
   "outputs": [
    {
     "data": {
      "text/plain": [
       "283296"
      ]
     },
     "execution_count": 79,
     "metadata": {},
     "output_type": "execute_result"
    }
   ],
   "source": [
    "# checking count before removing outliers:\n",
    "df12.count()"
   ]
  },
  {
   "cell_type": "code",
   "execution_count": 74,
   "id": "ffe985f0",
   "metadata": {},
   "outputs": [],
   "source": [
    "# Calculate percentiles\n",
    "odometer_percentiles = df12.approxQuantile(\"odometer\", [0.05, 0.25, 0.75], 0.01)\n",
    "odometer_percentile05 = odometer_percentiles[0]\n",
    "odometer_percentile25 = odometer_percentiles[1]\n",
    "odometer_percentile75 = odometer_percentiles[2]\n",
    "\n",
    "# Calculate IQR and upper/lower limits\n",
    "odometer_iqr = odometer_percentile75 - odometer_percentile25\n",
    "odometer_upper_limit = odometer_percentile75 + 1.5 * odometer_iqr\n",
    "odometer_lower_limit = odometer_percentile05\n",
    "\n",
    "# Filter DataFrame based on limits\n",
    "df13 = df12.filter((col(\"odometer\") < odometer_upper_limit) & (col(\"odometer\") > odometer_lower_limit))\n"
   ]
  },
  {
   "cell_type": "code",
   "execution_count": 75,
   "id": "a6e1a8d2",
   "metadata": {},
   "outputs": [
    {
     "data": {
      "image/png": "[encoded data removed]",
      "text/plain": [
       "<Figure size 432x288 with 1 Axes>"
      ]
     },
     "metadata": {
      "needs_background": "light"
     },
     "output_type": "display_data"
    }
   ],
   "source": [
    "# histogram after removal of outliers:\n",
    "pandas_df = df13.select(\"odometer\").toPandas()\n",
    "\n",
    "pandas_df.hist(bins=30)\n",
    "plt.title(\"Histogram of Your Numerical Column\")\n",
    "plt.xlabel(\"Value\") \n",
    "plt.ylabel(\"Frequency\")\n",
    "plt.show()"
   ]
  },
  {
   "cell_type": "code",
   "execution_count": 77,
   "id": "f1405e54",
   "metadata": {},
   "outputs": [
    {
     "data": {
      "image/png": "[encoded data removed]",
      "text/plain": [
       "<Figure size 432x288 with 1 Axes>"
      ]
     },
     "metadata": {
      "needs_background": "light"
     },
     "output_type": "display_data"
    }
   ],
   "source": [
    "pandas_df = df13.select('odometer').toPandas()\n",
    "\n",
    "pandas_df.boxplot(column='odometer')\n",
    "\n",
    "# Display the plot\n",
    "plt.show()"
   ]
  },
  {
   "cell_type": "code",
   "execution_count": 85,
   "id": "98e09479",
   "metadata": {},
   "outputs": [
    {
     "data": {
      "text/plain": [
       "267802"
      ]
     },
     "execution_count": 85,
     "metadata": {},
     "output_type": "execute_result"
    }
   ],
   "source": [
    "# checking count after outliers:\n",
    "df13.count()"
   ]
  },
  {
   "cell_type": "markdown",
   "id": "e985c3c7",
   "metadata": {},
   "source": [
    "## Feature Engineering :"
   ]
  },
  {
   "cell_type": "markdown",
   "id": "b521faab",
   "metadata": {},
   "source": [
    "#### year column :"
   ]
  },
  {
   "cell_type": "code",
   "execution_count": 80,
   "id": "457f663c",
   "metadata": {
    "scrolled": true
   },
   "outputs": [
    {
     "data": {
      "image/png": "[encoded data removed]",
      "text/plain": [
       "<Figure size 864x648 with 1 Axes>"
      ]
     },
     "metadata": {
      "needs_background": "light"
     },
     "output_type": "display_data"
    }
   ],
   "source": [
    "new_df = df13.select(\"price\",\"year\").toPandas()\n",
    "\n",
    "# Set up plot parameters\n",
    "plt.rcParams[\"figure.autolayout\"] = True\n",
    "sns.set_palette('summer_r')\n",
    "plt.figure(figsize=(12, 9))\n",
    "\n",
    "# Plot\n",
    "sns.barplot(y=new_df['price'], x=new_df['year'])\n",
    "plt.title(\"Price VS Year\", fontsize=20, fontweight='bold')\n",
    "plt.xlabel('Year', fontsize=20)\n",
    "plt.xticks(rotation=60)\n",
    "plt.ylabel('Price', fontsize=20)\n",
    "plt.tight_layout()\n",
    "plt.show()"
   ]
  },
  {
   "cell_type": "markdown",
   "id": "f4a9b6c8",
   "metadata": {},
   "source": [
    "We can see the car data before 1996 is quiet irrelevant with our current times data. So we are extracting all the car data available after 1996"
   ]
  },
  {
   "cell_type": "code",
   "execution_count": 81,
   "id": "492222da",
   "metadata": {},
   "outputs": [
    {
     "data": {
      "text/plain": [
       "267802"
      ]
     },
     "execution_count": 81,
     "metadata": {},
     "output_type": "execute_result"
    }
   ],
   "source": [
    "# count before removing the year records:\n",
    "df13.count()"
   ]
  },
  {
   "cell_type": "code",
   "execution_count": 82,
   "id": "793bc4eb",
   "metadata": {},
   "outputs": [],
   "source": [
    "# Filter DataFrame based on the condition\n",
    "df14 = df13.where(df13['year'] > 1996)"
   ]
  },
  {
   "cell_type": "code",
   "execution_count": 84,
   "id": "03e81f23",
   "metadata": {},
   "outputs": [
    {
     "data": {
      "text/plain": [
       "259083"
      ]
     },
     "execution_count": 84,
     "metadata": {},
     "output_type": "execute_result"
    }
   ],
   "source": [
    "# count after removing the year rows :\n",
    "df14.count()"
   ]
  },
  {
   "cell_type": "markdown",
   "id": "c53bd94b",
   "metadata": {},
   "source": [
    "#### count distinct records of each column:"
   ]
  },
  {
   "cell_type": "code",
   "execution_count": 83,
   "id": "e25c409e",
   "metadata": {},
   "outputs": [
    {
     "name": "stdout",
     "output_type": "stream",
     "text": [
      "region 51\n",
      "price 12243\n",
      "year 26\n",
      "manufacturer 21\n",
      "model 51\n",
      "condition 7\n",
      "cylinders 9\n",
      "fuel 5\n",
      "odometer 82190\n",
      "title_status 6\n",
      "transmission 3\n",
      "drive 4\n",
      "type 14\n",
      "paint_color 13\n"
     ]
    }
   ],
   "source": [
    "for col_name in df14.columns:\n",
    "\n",
    "    distinct_count = df14.select(countDistinct(col_name)).collect()[0][0]\n",
    "    print(col_name, distinct_count)"
   ]
  },
  {
   "cell_type": "markdown",
   "id": "0fdca6a1",
   "metadata": {},
   "source": [
    "#### Calculate car age and add it as a new column 'car_age' and drop year column :"
   ]
  },
  {
   "cell_type": "code",
   "execution_count": 85,
   "id": "9a55a326",
   "metadata": {},
   "outputs": [
    {
     "name": "stdout",
     "output_type": "stream",
     "text": [
      "+------+-----+-------------+------+---------+-----------+------+--------+------------+------------+-------+-------+-----------+-------+\n",
      "|region|price| manufacturer| model|condition|  cylinders|  fuel|odometer|title_status|transmission|  drive|   type|paint_color|car_age|\n",
      "+------+-----+-------------+------+---------+-----------+------+--------+------------+------------+-------+-------+-----------+-------+\n",
      "|others| 3850|   volkswagen| jetta|  unknown|    unknown|   gas|  178000|       clean|   automatic|unknown|unknown|    unknown|     12|\n",
      "|others|45950|       others|others|excellent|8 cylinders|diesel|  154289|       clean|   automatic|    4wd|  truck|      black|      8|\n",
      "|others| 5000|         jeep|others|  unknown|    unknown|diesel|  194000|       clean|   automatic|unknown|    SUV|    unknown|     16|\n",
      "|others| 3800|          kia|others|  unknown|6 cylinders|   gas|  112412|       clean|   automatic|    fwd|  sedan|       grey|     16|\n",
      "|others|27590|    chevrolet|others|     good|    unknown|   gas|   18056|       clean|       other|    rwd|  coupe|        red|      3|\n",
      "|others|18998|        acura|others|  unknown|    unknown|   gas|   56476|       clean|   automatic|    fwd|  sedan|      white|      7|\n",
      "|others|31590|         jeep|others|     good|6 cylinders|   gas|   58118|       clean|       other|    4wd|    SUV|       blue|      7|\n",
      "|others|29499|        lexus|others|  unknown|    unknown|   gas|   65923|       clean|   automatic|    fwd|  wagon|        red|      5|\n",
      "|others|24500|       others|sierra|excellent|8 cylinders|   gas|   49000|       clean|      manual|unknown|  truck|      black|     14|\n",
      "|others|32590|mercedes-benz|others|     good|    unknown|   gas|   34811|       clean|       other|unknown|  other|      black|      7|\n",
      "|others|29590|    chevrolet|others|     good|    unknown| other|   43874|       clean|       other|unknown| pickup|    unknown|      7|\n",
      "|others|30990|        acura|others|     good|6 cylinders|   gas|   34605|       clean|       other|unknown|    SUV|      white|      4|\n",
      "|others|23995|         jeep|others| like new|4 cylinders|   gas|   17801|       clean|   automatic|    4wd|    SUV|      green|      4|\n",
      "|others|24995|         ford| f-250|  unknown|    unknown| other|  101462|       clean|   automatic|    4wd| pickup|        red|      9|\n",
      "|others|25995|       others|others|  unknown|    unknown|   gas|   27173|       clean|   automatic|unknown|    SUV|      black|      3|\n",
      "|others|34550|         ford| f-150|  unknown|6 cylinders|   gas|   84247|       clean|   automatic|    4wd|  truck|       grey|      4|\n",
      "|others|17750|       others|others|excellent|4 cylinders|   gas|    9157|       clean|   automatic|    fwd|  sedan|       grey|      5|\n",
      "|others|23975|mercedes-benz|others|  unknown|    unknown|   gas|   53348|       clean|   automatic|unknown|unknown|    unknown|      7|\n",
      "|others|23194|        dodge|others|  unknown|6 cylinders|   gas|   35731|       clean|   automatic|    fwd|    SUV|    unknown|      3|\n",
      "|others|34750|       nissan|others|excellent|8 cylinders|diesel|   92000|        lien|   automatic|    4wd|  truck|     silver|      6|\n",
      "+------+-----+-------------+------+---------+-----------+------+--------+------------+------------+-------+-------+-----------+-------+\n",
      "only showing top 20 rows\n",
      "\n"
     ]
    }
   ],
   "source": [
    "df15 = df14.withColumn('car_age', 2022 - col('year'))\n",
    "\n",
    "df16 = df15.drop('year')\n",
    "\n",
    "df16.show(  )"
   ]
  },
  {
   "cell_type": "code",
   "execution_count": 86,
   "id": "a3876215",
   "metadata": {},
   "outputs": [
    {
     "name": "stdout",
     "output_type": "stream",
     "text": [
      "root\n",
      " |-- region: string (nullable = false)\n",
      " |-- price: integer (nullable = true)\n",
      " |-- manufacturer: string (nullable = false)\n",
      " |-- model: string (nullable = false)\n",
      " |-- condition: string (nullable = false)\n",
      " |-- cylinders: string (nullable = false)\n",
      " |-- fuel: string (nullable = false)\n",
      " |-- odometer: integer (nullable = true)\n",
      " |-- title_status: string (nullable = false)\n",
      " |-- transmission: string (nullable = false)\n",
      " |-- drive: string (nullable = false)\n",
      " |-- type: string (nullable = false)\n",
      " |-- paint_color: string (nullable = false)\n",
      " |-- car_age: integer (nullable = true)\n",
      "\n"
     ]
    }
   ],
   "source": [
    "df16.printSchema()"
   ]
  },
  {
   "cell_type": "code",
   "execution_count": 87,
   "id": "e91b4a9d",
   "metadata": {},
   "outputs": [
    {
     "data": {
      "text/plain": [
       "259083"
      ]
     },
     "execution_count": 87,
     "metadata": {},
     "output_type": "execute_result"
    }
   ],
   "source": [
    "# check final count :\n",
    "df16.count()"
   ]
  },
  {
   "cell_type": "code",
   "execution_count": 88,
   "id": "eed513a4",
   "metadata": {},
   "outputs": [
    {
     "name": "stdout",
     "output_type": "stream",
     "text": [
      "+------+-----+------------+-----+---------+---------+----+--------+------------+------------+-----+----+-----------+-------+\n",
      "|region|price|manufacturer|model|condition|cylinders|fuel|odometer|title_status|transmission|drive|type|paint_color|car_age|\n",
      "+------+-----+------------+-----+---------+---------+----+--------+------------+------------+-----+----+-----------+-------+\n",
      "|     0|    0|           0|    0|        0|        0|   0|       0|           0|           0|    0|   0|          0|      0|\n",
      "+------+-----+------------+-----+---------+---------+----+--------+------------+------------+-----+----+-----------+-------+\n",
      "\n"
     ]
    }
   ],
   "source": [
    "# Calculate the sum of null values for each column\n",
    "null_counts = df16.select([spark_sum(col(column).isNull().cast('int')).alias(column) for column in df16.columns])\n",
    "\n",
    "# Show the counts\n",
    "null_counts.show()\n"
   ]
  },
  {
   "cell_type": "code",
   "execution_count": 104,
   "id": "6e17d31e",
   "metadata": {},
   "outputs": [
    {
     "name": "stdout",
     "output_type": "stream",
     "text": [
      "+------+-----+-------------+------+---------+-----------+------+--------+------------+------------+-------+-------+-----------+-------+\n",
      "|region|price| manufacturer| model|condition|  cylinders|  fuel|odometer|title_status|transmission|  drive|   type|paint_color|car_age|\n",
      "+------+-----+-------------+------+---------+-----------+------+--------+------------+------------+-------+-------+-----------+-------+\n",
      "|others| 3850|   volkswagen| jetta|  unknown|    unknown|   gas|  178000|       clean|   automatic|unknown|unknown|    unknown|     12|\n",
      "|others|45950|       others|others|excellent|8 cylinders|diesel|  154289|       clean|   automatic|    4wd|  truck|      black|      8|\n",
      "|others| 5000|         jeep|others|  unknown|    unknown|diesel|  194000|       clean|   automatic|unknown|    SUV|    unknown|     16|\n",
      "|others| 3800|          kia|others|  unknown|6 cylinders|   gas|  112412|       clean|   automatic|    fwd|  sedan|       grey|     16|\n",
      "|others|27590|    chevrolet|others|     good|    unknown|   gas|   18056|       clean|       other|    rwd|  coupe|        red|      3|\n",
      "|others|18998|        acura|others|  unknown|    unknown|   gas|   56476|       clean|   automatic|    fwd|  sedan|      white|      7|\n",
      "|others|31590|         jeep|others|     good|6 cylinders|   gas|   58118|       clean|       other|    4wd|    SUV|       blue|      7|\n",
      "|others|29499|        lexus|others|  unknown|    unknown|   gas|   65923|       clean|   automatic|    fwd|  wagon|        red|      5|\n",
      "|others|24500|       others|sierra|excellent|8 cylinders|   gas|   49000|       clean|      manual|unknown|  truck|      black|     14|\n",
      "|others|32590|mercedes-benz|others|     good|    unknown|   gas|   34811|       clean|       other|unknown|  other|      black|      7|\n",
      "|others|29590|    chevrolet|others|     good|    unknown| other|   43874|       clean|       other|unknown| pickup|    unknown|      7|\n",
      "|others|30990|        acura|others|     good|6 cylinders|   gas|   34605|       clean|       other|unknown|    SUV|      white|      4|\n",
      "|others|23995|         jeep|others| like new|4 cylinders|   gas|   17801|       clean|   automatic|    4wd|    SUV|      green|      4|\n",
      "|others|24995|         ford| f-250|  unknown|    unknown| other|  101462|       clean|   automatic|    4wd| pickup|        red|      9|\n",
      "|others|25995|       others|others|  unknown|    unknown|   gas|   27173|       clean|   automatic|unknown|    SUV|      black|      3|\n",
      "|others|34550|         ford| f-150|  unknown|6 cylinders|   gas|   84247|       clean|   automatic|    4wd|  truck|       grey|      4|\n",
      "|others|17750|       others|others|excellent|4 cylinders|   gas|    9157|       clean|   automatic|    fwd|  sedan|       grey|      5|\n",
      "|others|23975|mercedes-benz|others|  unknown|    unknown|   gas|   53348|       clean|   automatic|unknown|unknown|    unknown|      7|\n",
      "|others|23194|        dodge|others|  unknown|6 cylinders|   gas|   35731|       clean|   automatic|    fwd|    SUV|    unknown|      3|\n",
      "|others|34750|       nissan|others|excellent|8 cylinders|diesel|   92000|        lien|   automatic|    4wd|  truck|     silver|      6|\n",
      "+------+-----+-------------+------+---------+-----------+------+--------+------------+------------+-------+-------+-----------+-------+\n",
      "only showing top 20 rows\n",
      "\n"
     ]
    }
   ],
   "source": [
    "df16.show()"
   ]
  },
  {
   "cell_type": "markdown",
   "id": "f879a1dc",
   "metadata": {},
   "source": [
    "##### Save DataFrame to a single CSV file for further tableau analysis :\n",
    "df16.coalesce(1).write.csv(\"file:///D:/DBDA/new_vehicle_EDA_1.csv\", header=True)"
   ]
  },
  {
   "cell_type": "markdown",
   "id": "2b668949",
   "metadata": {},
   "source": [
    "### Data Visualization using pandas :"
   ]
  },
  {
   "cell_type": "markdown",
   "id": "052ed0ea",
   "metadata": {},
   "source": [
    "#### ploting pair-plot :  distribution"
   ]
  },
  {
   "cell_type": "code",
   "execution_count": 91,
   "id": "af3b5cab",
   "metadata": {},
   "outputs": [
    {
     "data": {
      "image/png": "[encoded data removed]",
      "text/plain": [
       "<Figure size 540x540 with 12 Axes>"
      ]
     },
     "metadata": {
      "needs_background": "light"
     },
     "output_type": "display_data"
    }
   ],
   "source": [
    "# Convert PySpark DataFrame to Pandas DataFrame\n",
    "pandas_df = df16.select(\"price\",\"car_age\",'odometer','fuel','condition').toPandas()\n",
    "\n",
    "sample_data = pandas_df.sample(100)\n",
    "\n",
    "# Create pair plot using seaborn\n",
    "sns.pairplot(sample_data)\n",
    "plt.title('Figure 1: Pair Plot')\n",
    "plt.tight_layout()\n",
    "\n",
    "# Display the plot\n",
    "plt.show()"
   ]
  },
  {
   "cell_type": "markdown",
   "id": "5f973a83",
   "metadata": {},
   "source": [
    "#### ploting heatmap : correlation "
   ]
  },
  {
   "cell_type": "code",
   "execution_count": 92,
   "id": "086b2308",
   "metadata": {},
   "outputs": [
    {
     "data": {
      "text/plain": [
       "<AxesSubplot:>"
      ]
     },
     "execution_count": 92,
     "metadata": {},
     "output_type": "execute_result"
    },
    {
     "data": {
      "image/png": "[encoded data removed]",
      "text/plain": [
       "<Figure size 432x288 with 2 Axes>"
      ]
     },
     "metadata": {
      "needs_background": "light"
     },
     "output_type": "display_data"
    }
   ],
   "source": [
    "sns.heatmap(pandas_df.corr(), annot=True)"
   ]
  },
  {
   "cell_type": "markdown",
   "id": "2860dc84",
   "metadata": {},
   "source": [
    "#### subplots :"
   ]
  },
  {
   "cell_type": "code",
   "execution_count": 93,
   "id": "db961f29",
   "metadata": {},
   "outputs": [
    {
     "data": {
      "image/png": "[encoded data removed]",
      "text/plain": [
       "<Figure size 360x360 with 1 Axes>"
      ]
     },
     "metadata": {
      "needs_background": "light"
     },
     "output_type": "display_data"
    }
   ],
   "source": [
    "fig,axs=plt.subplots()\n",
    "fig.set_size_inches(5,5)\n",
    "\n",
    "p1=sns.barplot(x='fuel',y='price',data=pandas_df,ax=axs)\n",
    "axs.set_title('Fuel vs Price')\n",
    "\n",
    "plt.savefig('Insight-Figure-1',dpi=None)\n",
    "plt.show()"
   ]
  },
  {
   "cell_type": "code",
   "execution_count": 98,
   "id": "29d168a2",
   "metadata": {
    "scrolled": true
   },
   "outputs": [
    {
     "data": {
      "image/png": "[encoded data removed]",
      "text/plain": [
       "<Figure size 360x360 with 1 Axes>"
      ]
     },
     "metadata": {
      "needs_background": "light"
     },
     "output_type": "display_data"
    }
   ],
   "source": [
    "fig,axs=plt.subplots()\n",
    "fig.set_size_inches(5,5)\n",
    "\n",
    "p1=sns.barplot(x='condition',y='price',data=pandas_df,ax=axs)\n",
    "axs.set_title('Fuel vs Price')\n",
    "\n",
    "plt.savefig('Insight-Figure-1',dpi=None)\n",
    "plt.show()"
   ]
  },
  {
   "cell_type": "markdown",
   "id": "f4a60e5f",
   "metadata": {},
   "source": [
    "#### barplot :"
   ]
  },
  {
   "cell_type": "code",
   "execution_count": 94,
   "id": "757ed804",
   "metadata": {},
   "outputs": [
    {
     "data": {
      "image/png": "[encoded data removed]",
      "text/plain": [
       "<Figure size 720x360 with 1 Axes>"
      ]
     },
     "metadata": {
      "needs_background": "light"
     },
     "output_type": "display_data"
    }
   ],
   "source": [
    "plt.figure(figsize=(10,5))\n",
    "sns.barplot(x='fuel',y='price',hue='condition',data=pandas_df)\n",
    "plt.title('Fuel + Condition vs Price')\n",
    "plt.savefig('Insight-Figure-2',dpi=None)\n",
    "plt.show()"
   ]
  },
  {
   "cell_type": "markdown",
   "id": "272445da",
   "metadata": {},
   "source": [
    "### Model Training :"
   ]
  },
  {
   "cell_type": "code",
   "execution_count": 95,
   "id": "423757d7",
   "metadata": {},
   "outputs": [
    {
     "name": "stdout",
     "output_type": "stream",
     "text": [
      "+-----------+-----+-------------+------+---------+-----------+----+--------+------------+------------+-------+-------+-----------+-------+------------------------+-------------------------------+------------------+----+----+----+---+----+----+---+----+---+----+--------------------+---------------+-------------+-------------+-------------+-------------+-------------+-------------+--------------+--------------+---------------+--------------------+-----------------------+\n",
      "|     region|price| manufacturer| model|condition|  cylinders|fuel|odometer|title_status|transmission|  drive|   type|paint_color|car_age|numerical_feature_vector|scaled_numerical_feature_vector|manufacturer_index| m_i|co_i|cy_i|f_i|ts_i|tr_i|d_i|ty_i|p_i| r_i|manufacturer_index_h|          m_i_h|       co_i_h|       cy_i_h|        f_i_h|       ts_i_h|       tr_i_h|        d_i_h|        ty_i_h|         p_i_h|          r_i_h|final_feature_vector|predicted_vehicle_value|\n",
      "+-----------+-----+-------------+------+---------+-----------+----+--------+------------+------------+-------+-------+-----------+-------+------------------------+-------------------------------+------------------+----+----+----+---+----+----+---+----+---+----+--------------------+---------------+-------------+-------------+-------------+-------------+-------------+-------------+--------------+--------------+---------------+--------------------+-----------------------+\n",
      "|SF bay area| 3900|       others|others|excellent|8 cylinders| gas|  140145|       clean|   automatic|    rwd|  sedan|      brown|     19|         [140145.0,19.0]|           [0.88773092227346...|               1.0| 0.0| 2.0| 3.0|0.0| 0.0| 0.0|3.0| 0.0|7.0|26.0|      (21,[1],[1.0])| (51,[0],[1.0])|(7,[2],[1.0])|(9,[3],[1.0])|(5,[0],[1.0])|(6,[0],[1.0])|(3,[0],[1.0])|(4,[3],[1.0])|(14,[0],[1.0])|(13,[7],[1.0])|(51,[26],[1.0])|(186,[0,1,3,23,76...|      6111.127248960072|\n",
      "|SF bay area| 3995|mercedes-benz|others|  unknown|6 cylinders| gas|  141021|       clean|   automatic|    rwd|  sedan|      brown|     22|         [141021.0,22.0]|           [0.90318250775648...|              10.0| 0.0| 0.0| 1.0|0.0| 0.0| 0.0|3.0| 0.0|7.0|26.0|     (21,[10],[1.0])| (51,[0],[1.0])|(7,[0],[1.0])|(9,[1],[1.0])|(5,[0],[1.0])|(6,[0],[1.0])|(3,[0],[1.0])|(4,[3],[1.0])|(14,[0],[1.0])|(13,[7],[1.0])|(51,[26],[1.0])|(186,[0,1,12,23,7...|     3014.6004917828286|\n",
      "|SF bay area| 4000|        honda| civic|     good|4 cylinders| gas|  139200|       clean|   automatic|    fwd|  coupe|       grey|     17|         [139200.0,17.0]|           [0.87106225985170...|               4.0|10.0| 1.0| 2.0|0.0| 0.0| 0.0|2.0| 7.0|6.0|26.0|      (21,[4],[1.0])|(51,[10],[1.0])|(7,[1],[1.0])|(9,[2],[1.0])|(5,[0],[1.0])|(6,[0],[1.0])|(3,[0],[1.0])|(4,[2],[1.0])|(14,[7],[1.0])|(13,[6],[1.0])|(51,[26],[1.0])|(186,[0,1,6,33,75...|      870.0320971410802|\n",
      "|SF bay area| 4000|       subaru|others|  unknown|    unknown| gas|  250000|     salvage|      manual|unknown|unknown|    unknown|     16|         [250000.0,16.0]|           [2.82544088030677...|              11.0| 0.0| 0.0| 0.0|0.0| 2.0| 2.0|1.0| 1.0|0.0|26.0|     (21,[11],[1.0])| (51,[0],[1.0])|(7,[0],[1.0])|(9,[0],[1.0])|(5,[0],[1.0])|(6,[2],[1.0])|(3,[2],[1.0])|(4,[1],[1.0])|(14,[1],[1.0])|(13,[0],[1.0])|(51,[26],[1.0])|(186,[0,1,13,23,7...|      -6712.77097089274|\n",
      "|SF bay area| 4299|        honda|others|  unknown|    unknown| gas|  140000|       clean|   automatic|unknown|unknown|    unknown|     20|         [140000.0,20.0]|           [0.88517329682250...|               4.0| 0.0| 0.0| 0.0|0.0| 0.0| 0.0|1.0| 1.0|0.0|26.0|      (21,[4],[1.0])| (51,[0],[1.0])|(7,[0],[1.0])|(9,[0],[1.0])|(5,[0],[1.0])|(6,[0],[1.0])|(3,[0],[1.0])|(4,[1],[1.0])|(14,[1],[1.0])|(13,[0],[1.0])|(51,[26],[1.0])|(186,[0,1,6,23,74...|      3110.045686244397|\n",
      "+-----------+-----+-------------+------+---------+-----------+----+--------+------------+------------+-------+-------+-----------+-------+------------------------+-------------------------------+------------------+----+----+----+---+----+----+---+----+---+----+--------------------+---------------+-------------+-------------+-------------+-------------+-------------+-------------+--------------+--------------+---------------+--------------------+-----------------------+\n",
      "only showing top 5 rows\n",
      "\n",
      "0.7453775420591324\n",
      "+--------------------+------------------+\n",
      "|final_feature_vector|        prediction|\n",
      "+--------------------+------------------+\n",
      "|(186,[0,1,4,23,75...|11592.308316352748|\n",
      "|(186,[0,1,3,23,74...|120.45643861621647|\n",
      "|(186,[0,1,16,23,7...|1455.0535695980143|\n",
      "|(186,[0,1,7,23,75...| 743.7199121118356|\n",
      "|(186,[0,1,10,23,7...| 2205.480525897372|\n",
      "|(186,[0,1,16,23,7...| 5662.070431708988|\n",
      "|(186,[0,1,4,23,76...|11333.934905646667|\n",
      "|(186,[0,1,6,30,75...|12917.022616086062|\n",
      "|(186,[0,1,7,23,76...| 19998.67740745208|\n",
      "|(186,[0,1,7,23,74...|  19240.5574769407|\n",
      "|(186,[0,1,14,23,7...| 5396.186892443871|\n",
      "|(186,[0,1,5,23,74...|21237.340231591646|\n",
      "|(186,[0,1,2,23,76...|15349.448969801153|\n",
      "|(186,[0,1,6,23,76...| 12859.14207351266|\n",
      "|(186,[0,1,4,23,76...| 2361.624868970117|\n",
      "|(186,[0,1,13,23,7...| 671.0845545337907|\n",
      "|(186,[0,1,6,23,74...|17362.149393431828|\n",
      "|(186,[0,1,3,23,76...| 12528.19477227037|\n",
      "|(186,[0,1,6,23,76...| 7706.671592194563|\n",
      "|(186,[0,1,4,23,76...|14898.407687699812|\n",
      "+--------------------+------------------+\n",
      "only showing top 20 rows\n",
      "\n"
     ]
    }
   ],
   "source": [
    "from pyspark.sql import SparkSession\n",
    "from pyspark.ml.feature import StringIndexer, OneHotEncoder, VectorAssembler,StandardScaler\n",
    "from pyspark.ml.regression import LinearRegression\n",
    "from pyspark.ml import Pipeline\n",
    "from pyspark.ml.evaluation import RegressionEvaluator\n",
    "\n",
    "train, test = df16.randomSplit([0.75, 0.25])\n",
    "\n",
    "numerical=[\"odometer\",\"car_age\"]\n",
    "\n",
    "numerical_vector_assembler = VectorAssembler(inputCols=numerical,\n",
    "                                             outputCol='numerical_feature_vector')\n",
    "\n",
    "train = numerical_vector_assembler.transform(train)\n",
    "test = numerical_vector_assembler.transform(test)\n",
    "\n",
    "\n",
    "scaler = StandardScaler(inputCol='numerical_feature_vector',\n",
    "                        outputCol='scaled_numerical_feature_vector',\n",
    "                        withStd=True, withMean=True)\n",
    "\n",
    "scaler = scaler.fit(train)\n",
    "\n",
    "train = scaler.transform(train)\n",
    "test = scaler.transform(test)\n",
    "\n",
    "\n",
    "indexer = StringIndexer(inputCols=['manufacturer','model','condition','cylinders','fuel','title_status','transmission','drive','type','paint_color','region'],\n",
    "                        outputCols=['manufacturer_index','m_i','co_i','cy_i','f_i','ts_i','tr_i','d_i','ty_i','p_i','r_i'],handleInvalid=\"keep\")\n",
    "\n",
    "indexer = indexer.fit(train)\n",
    "train = indexer.transform(train)\n",
    "test = indexer.transform(test)\n",
    "\n",
    "\n",
    "\n",
    "one_hot_encoder = OneHotEncoder(inputCols=['manufacturer_index','m_i','co_i','cy_i','f_i','ts_i','tr_i','d_i','ty_i','p_i','r_i'],\n",
    "                                outputCols=['manufacturer_index_h','m_i_h','co_i_h','cy_i_h','f_i_h','ts_i_h','tr_i_h','d_i_h','ty_i_h','p_i_h','r_i_h'])\n",
    "\n",
    "one_hot_encoder = one_hot_encoder.fit(train)\n",
    "\n",
    "train = one_hot_encoder.transform(train)\n",
    "test = one_hot_encoder.transform(test)\n",
    "\n",
    "assembler = VectorAssembler(inputCols=['scaled_numerical_feature_vector',\n",
    "                                       'manufacturer_index_h','m_i_h','co_i_h','cy_i_h','f_i_h','ts_i_h','tr_i_h','d_i_h','ty_i_h','p_i_h','r_i_h'],\n",
    "                            outputCol='final_feature_vector')\n",
    "\n",
    "train = assembler.transform(train)\n",
    "test = assembler.transform(test)\n",
    "\n",
    "\n",
    "\n",
    "lr = LinearRegression(featuresCol='final_feature_vector',\n",
    "                      labelCol='price')\n",
    "\n",
    "\n",
    "lr=lr.fit(train)\n",
    "pred_train_df = lr.transform(train).withColumnRenamed('prediction',\n",
    "                                                      'predicted_vehicle_value')\n",
    "\n",
    "pred_train_df.show(5)\n",
    "\n",
    "pred_test_df = lr.transform(test).withColumnRenamed('prediction','predicted_vehicle_value')\n",
    "\n",
    "result=lr.evaluate(test)\n",
    "print(result.r2)\n",
    "unlabeled_data=test.select(\"final_feature_vector\")\n",
    "predictions=lr.transform(unlabeled_data)\n",
    "predictions.show(20)"
   ]
  },
  {
   "cell_type": "code",
   "execution_count": null,
   "id": "20027f10",
   "metadata": {},
   "outputs": [],
   "source": []
  }
 ],
 "metadata": {
  "kernelspec": {
   "display_name": "Python 3 (ipykernel)",
   "language": "python",
   "name": "python3"
  },
  "language_info": {
   "codemirror_mode": {
    "name": "ipython",
    "version": 3
   },
   "file_extension": ".py",
   "mimetype": "text/x-python",
   "name": "python",
   "nbconvert_exporter": "python",
   "pygments_lexer": "ipython3",
   "version": "3.10.3"
  }
 },
 "nbformat": 4,
 "nbformat_minor": 5
}
